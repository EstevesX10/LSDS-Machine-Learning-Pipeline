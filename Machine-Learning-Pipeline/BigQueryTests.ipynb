{
 "cells": [
  {
   "cell_type": "code",
   "execution_count": 1,
   "id": "b5386821-4516-4640-830e-ba1250f6e385",
   "metadata": {},
   "outputs": [],
   "source": [
    "# !pip install --upgrade google-cloud-bigquery\n",
    "# !pip install --upgrade google-cloud-storage\n",
    "# !pip install db-dtypes"
   ]
  },
  {
   "cell_type": "code",
   "execution_count": 2,
   "id": "cf341374-f80c-4d5d-b94b-eafa72fadbe6",
   "metadata": {},
   "outputs": [],
   "source": [
    "import os\n",
    "from google.cloud import storage\n",
    "from google.cloud import bigquery"
   ]
  },
  {
   "cell_type": "code",
   "execution_count": 3,
   "id": "dc92dade-3838-4ce1-9e14-e1a01f473be5",
   "metadata": {},
   "outputs": [],
   "source": [
    "# Define the path to the environment key\n",
    "key = './ml-pipeline-key.json'"
   ]
  },
  {
   "cell_type": "code",
   "execution_count": 4,
   "id": "0b8e5f3c-e218-4fbe-aa85-2d7050bca5d8",
   "metadata": {},
   "outputs": [],
   "source": [
    "# If you want to change the environment variable\n",
    "os.environ[\"GOOGLE_APPLICATION_CREDENTIALS\"] = key"
   ]
  },
  {
   "cell_type": "code",
   "execution_count": 5,
   "id": "65bda136-3a56-4d7b-ab57-1fa236863cc6",
   "metadata": {},
   "outputs": [],
   "source": [
    "# Create a client using the default credentials\n",
    "client = storage.Client()\n",
    "\n",
    "# List all buckets\n",
    "buckets = list(client.list_buckets())\n",
    "for bucket in buckets:\n",
    "    print(bucket.name)"
   ]
  },
  {
   "cell_type": "code",
   "execution_count": 6,
   "id": "815dc108-cb27-4c8e-a270-cbcf504cb774",
   "metadata": {},
   "outputs": [],
   "source": [
    "# If you do not want to modify environment variables\n",
    "# Create a client using the specified key file\n",
    "client = storage.Client.from_service_account_json(key)"
   ]
  },
  {
   "cell_type": "markdown",
   "id": "660ee2a5-d18d-439b-9598-b6c9b4d1f6c6",
   "metadata": {},
   "source": [
    "---\n",
    "# Lets perform some queries"
   ]
  },
  {
   "cell_type": "code",
   "execution_count": 8,
   "id": "5cb1ddc6-8bd2-467f-a03c-c387d8218ac1",
   "metadata": {},
   "outputs": [
    {
     "name": "stdout",
     "output_type": "stream",
     "text": [
      "Row((234, 249, 'F', datetime.datetime(2075, 3, 13, 0, 0, tzinfo=datetime.timezone.utc), None, None, None, 0), {'ROW_ID': 0, 'SUBJECT_ID': 1, 'GENDER': 2, 'DOB': 3, 'DOD': 4, 'DOD_HOSP': 5, 'DOD_SSN': 6, 'EXPIRE_FLAG': 7})\n",
      "Row((238, 253, 'F', datetime.datetime(2089, 11, 26, 0, 0, tzinfo=datetime.timezone.utc), None, None, None, 0), {'ROW_ID': 0, 'SUBJECT_ID': 1, 'GENDER': 2, 'DOB': 3, 'DOD': 4, 'DOD_HOSP': 5, 'DOD_SSN': 6, 'EXPIRE_FLAG': 7})\n",
      "Row((242, 258, 'F', datetime.datetime(2124, 9, 19, 0, 0, tzinfo=datetime.timezone.utc), None, None, None, 0), {'ROW_ID': 0, 'SUBJECT_ID': 1, 'GENDER': 2, 'DOB': 3, 'DOD': 4, 'DOD_HOSP': 5, 'DOD_SSN': 6, 'EXPIRE_FLAG': 7})\n",
      "Row((243, 260, 'F', datetime.datetime(2105, 3, 23, 0, 0, tzinfo=datetime.timezone.utc), None, None, None, 0), {'ROW_ID': 0, 'SUBJECT_ID': 1, 'GENDER': 2, 'DOB': 3, 'DOD': 4, 'DOD_HOSP': 5, 'DOD_SSN': 6, 'EXPIRE_FLAG': 7})\n",
      "Row((247, 264, 'F', datetime.datetime(2162, 11, 30, 0, 0, tzinfo=datetime.timezone.utc), None, None, None, 0), {'ROW_ID': 0, 'SUBJECT_ID': 1, 'GENDER': 2, 'DOB': 3, 'DOD': 4, 'DOD_HOSP': 5, 'DOD_SSN': 6, 'EXPIRE_FLAG': 7})\n",
      "Row((249, 266, 'F', datetime.datetime(2090, 12, 17, 0, 0, tzinfo=datetime.timezone.utc), None, None, None, 0), {'ROW_ID': 0, 'SUBJECT_ID': 1, 'GENDER': 2, 'DOB': 3, 'DOD': 4, 'DOD_HOSP': 5, 'DOD_SSN': 6, 'EXPIRE_FLAG': 7})\n",
      "Row((250, 267, 'F', datetime.datetime(2131, 9, 5, 0, 0, tzinfo=datetime.timezone.utc), None, None, None, 0), {'ROW_ID': 0, 'SUBJECT_ID': 1, 'GENDER': 2, 'DOB': 3, 'DOD': 4, 'DOD_HOSP': 5, 'DOD_SSN': 6, 'EXPIRE_FLAG': 7})\n",
      "Row((626, 663, 'F', datetime.datetime(2086, 5, 12, 0, 0, tzinfo=datetime.timezone.utc), None, None, None, 0), {'ROW_ID': 0, 'SUBJECT_ID': 1, 'GENDER': 2, 'DOB': 3, 'DOD': 4, 'DOD_HOSP': 5, 'DOD_SSN': 6, 'EXPIRE_FLAG': 7})\n",
      "Row((630, 667, 'F', datetime.datetime(2053, 9, 17, 0, 0, tzinfo=datetime.timezone.utc), None, None, None, 0), {'ROW_ID': 0, 'SUBJECT_ID': 1, 'GENDER': 2, 'DOB': 3, 'DOD': 4, 'DOD_HOSP': 5, 'DOD_SSN': 6, 'EXPIRE_FLAG': 7})\n",
      "Row((638, 675, 'F', datetime.datetime(2158, 4, 5, 0, 0, tzinfo=datetime.timezone.utc), None, None, None, 0), {'ROW_ID': 0, 'SUBJECT_ID': 1, 'GENDER': 2, 'DOB': 3, 'DOD': 4, 'DOD_HOSP': 5, 'DOD_SSN': 6, 'EXPIRE_FLAG': 7})\n"
     ]
    }
   ],
   "source": [
    "# Create a Bigery.Client.from_service_account_json(key)\n",
    "client = bigquery.Client.from_service_account_json(key)\n",
    "\n",
    "# Define your query\n",
    "query = \"\"\"\n",
    "    SELECT *\n",
    "    FROM `MIMIC.PATIENTS`\n",
    "    LIMIT 10\n",
    "\"\"\"\n",
    "\n",
    "# Run the query\n",
    "query_job = client.query(query)\n",
    "\n",
    "# Wait for the job to complete and get the results\n",
    "results = query_job.result()\n",
    "\n",
    "# Convert the results to a Pandas DataFrame\n",
    "df = query_job.to_dataframe()\n",
    "\n",
    "# Print the results\n",
    "for result in results:\n",
    "    print(result)"
   ]
  },
  {
   "cell_type": "code",
   "execution_count": 11,
   "id": "8c141ec7-8358-4ea0-827d-c49cac9af80f",
   "metadata": {},
   "outputs": [
    {
     "data": {
      "text/html": [
       "<div>\n",
       "<style scoped>\n",
       "    .dataframe tbody tr th:only-of-type {\n",
       "        vertical-align: middle;\n",
       "    }\n",
       "\n",
       "    .dataframe tbody tr th {\n",
       "        vertical-align: top;\n",
       "    }\n",
       "\n",
       "    .dataframe thead th {\n",
       "        text-align: right;\n",
       "    }\n",
       "</style>\n",
       "<table border=\"1\" class=\"dataframe\">\n",
       "  <thead>\n",
       "    <tr style=\"text-align: right;\">\n",
       "      <th></th>\n",
       "      <th>ROW_ID</th>\n",
       "      <th>SUBJECT_ID</th>\n",
       "      <th>GENDER</th>\n",
       "      <th>DOB</th>\n",
       "      <th>DOD</th>\n",
       "      <th>DOD_HOSP</th>\n",
       "      <th>DOD_SSN</th>\n",
       "      <th>EXPIRE_FLAG</th>\n",
       "    </tr>\n",
       "  </thead>\n",
       "  <tbody>\n",
       "    <tr>\n",
       "      <th>0</th>\n",
       "      <td>234</td>\n",
       "      <td>249</td>\n",
       "      <td>F</td>\n",
       "      <td>2075-03-13 00:00:00+00:00</td>\n",
       "      <td>NaT</td>\n",
       "      <td>NaT</td>\n",
       "      <td>NaT</td>\n",
       "      <td>0</td>\n",
       "    </tr>\n",
       "    <tr>\n",
       "      <th>1</th>\n",
       "      <td>238</td>\n",
       "      <td>253</td>\n",
       "      <td>F</td>\n",
       "      <td>2089-11-26 00:00:00+00:00</td>\n",
       "      <td>NaT</td>\n",
       "      <td>NaT</td>\n",
       "      <td>NaT</td>\n",
       "      <td>0</td>\n",
       "    </tr>\n",
       "    <tr>\n",
       "      <th>2</th>\n",
       "      <td>242</td>\n",
       "      <td>258</td>\n",
       "      <td>F</td>\n",
       "      <td>2124-09-19 00:00:00+00:00</td>\n",
       "      <td>NaT</td>\n",
       "      <td>NaT</td>\n",
       "      <td>NaT</td>\n",
       "      <td>0</td>\n",
       "    </tr>\n",
       "    <tr>\n",
       "      <th>3</th>\n",
       "      <td>243</td>\n",
       "      <td>260</td>\n",
       "      <td>F</td>\n",
       "      <td>2105-03-23 00:00:00+00:00</td>\n",
       "      <td>NaT</td>\n",
       "      <td>NaT</td>\n",
       "      <td>NaT</td>\n",
       "      <td>0</td>\n",
       "    </tr>\n",
       "    <tr>\n",
       "      <th>4</th>\n",
       "      <td>247</td>\n",
       "      <td>264</td>\n",
       "      <td>F</td>\n",
       "      <td>2162-11-30 00:00:00+00:00</td>\n",
       "      <td>NaT</td>\n",
       "      <td>NaT</td>\n",
       "      <td>NaT</td>\n",
       "      <td>0</td>\n",
       "    </tr>\n",
       "  </tbody>\n",
       "</table>\n",
       "</div>"
      ],
      "text/plain": [
       "   ROW_ID  SUBJECT_ID GENDER                       DOB DOD DOD_HOSP DOD_SSN  \\\n",
       "0     234         249      F 2075-03-13 00:00:00+00:00 NaT      NaT     NaT   \n",
       "1     238         253      F 2089-11-26 00:00:00+00:00 NaT      NaT     NaT   \n",
       "2     242         258      F 2124-09-19 00:00:00+00:00 NaT      NaT     NaT   \n",
       "3     243         260      F 2105-03-23 00:00:00+00:00 NaT      NaT     NaT   \n",
       "4     247         264      F 2162-11-30 00:00:00+00:00 NaT      NaT     NaT   \n",
       "\n",
       "   EXPIRE_FLAG  \n",
       "0            0  \n",
       "1            0  \n",
       "2            0  \n",
       "3            0  \n",
       "4            0  "
      ]
     },
     "execution_count": 11,
     "metadata": {},
     "output_type": "execute_result"
    }
   ],
   "source": [
    "df.head()"
   ]
  },
  {
   "cell_type": "markdown",
   "id": "d20f142a-5b3b-4385-99ef-6a4e5ac0ef77",
   "metadata": {},
   "source": [
    "---\n",
    "## Other approach"
   ]
  },
  {
   "cell_type": "code",
   "execution_count": 33,
   "id": "89f95528-06ff-4b9d-8ea5-b86078e0bad1",
   "metadata": {
    "scrolled": true
   },
   "outputs": [],
   "source": [
    "# !pip install --upgrade bigframes\n",
    "# !pip install dask dask-bigquery google-cloud-bigquery\n",
    "# !pip install modin\n",
    "# !pip install google-cloud-bigquery\n",
    "# !pip install --upgrade pandas==2.2.*"
   ]
  },
  {
   "cell_type": "code",
   "execution_count": 12,
   "id": "3659c402-e5c4-48f0-8c9e-606dc7faa6c9",
   "metadata": {},
   "outputs": [],
   "source": [
    "import bigframes as bf\n",
    "import bigframes.pandas as bpd"
   ]
  },
  {
   "cell_type": "code",
   "execution_count": 13,
   "id": "5426f4ea-3b8d-4b25-a555-b39a399a5495",
   "metadata": {},
   "outputs": [],
   "source": [
    "import pandas as pd\n",
    "import dask.dataframe as dd"
   ]
  },
  {
   "cell_type": "code",
   "execution_count": 14,
   "id": "e1f7143f-110c-4f5f-bd47-3cb107a8b2c8",
   "metadata": {},
   "outputs": [],
   "source": [
    "from sklearn.model_selection import train_test_split, cross_val_score\n",
    "from sklearn.linear_model import LinearRegression\n",
    "from sklearn.metrics import mean_squared_error"
   ]
  },
  {
   "cell_type": "code",
   "execution_count": 15,
   "id": "c704817a-1e1a-417b-9b81-d8d09c6d3821",
   "metadata": {},
   "outputs": [],
   "source": [
    "from pyspark.sql import SparkSession\n",
    "from pyspark.sql.functions import col, isnan, mean as count, when, udf, regexp_replace, coalesce, lit\n",
    "from pyspark.sql.types import IntegerType\n",
    "from pyspark.sql import functions as F"
   ]
  },
  {
   "cell_type": "code",
   "execution_count": 16,
   "id": "4b206ce6-cc4b-4050-898c-2f237e807e61",
   "metadata": {},
   "outputs": [],
   "source": [
    "import matplotlib.pyplot as plt\n",
    "import math\n",
    "from datetime import datetime\n",
    "import seaborn as sns"
   ]
  },
  {
   "cell_type": "code",
   "execution_count": 17,
   "id": "c73c8878-43a4-4317-94e8-0bbab8c50d0c",
   "metadata": {},
   "outputs": [],
   "source": [
    "# Define the projet's settings\n",
    "project = \"ml-pipeline-455620\"\n",
    "bf.options.bigquery.projetc=project\n",
    "bf.options.bigquery.location=\"EU\""
   ]
  },
  {
   "cell_type": "code",
   "execution_count": 18,
   "id": "bb72976e-2554-4b7f-a5da-dd60d6cbd9b6",
   "metadata": {},
   "outputs": [
    {
     "data": {
      "text/html": [
       "Query job f5bdcbb7-1548-4b97-943f-0cb9ceab16da is DONE. 0 Bytes processed. <a target=\"_blank\" href=\"https://console.cloud.google.com/bigquery?project=ml-pipeline-455620&j=bq:EU:f5bdcbb7-1548-4b97-943f-0cb9ceab16da&page=queryresults\">Open Job</a>"
      ],
      "text/plain": [
       "<IPython.core.display.HTML object>"
      ]
     },
     "metadata": {},
     "output_type": "display_data"
    },
    {
     "data": {
      "text/html": [
       "Query job c6a36524-ef7c-493d-9772-fb0caf00d46c is DONE. 1.9 MB processed. <a target=\"_blank\" href=\"https://console.cloud.google.com/bigquery?project=ml-pipeline-455620&j=bq:EU:c6a36524-ef7c-493d-9772-fb0caf00d46c&page=queryresults\">Open Job</a>"
      ],
      "text/plain": [
       "<IPython.core.display.HTML object>"
      ]
     },
     "metadata": {},
     "output_type": "display_data"
    },
    {
     "data": {
      "text/html": [
       "<div>\n",
       "<style scoped>\n",
       "    .dataframe tbody tr th:only-of-type {\n",
       "        vertical-align: middle;\n",
       "    }\n",
       "\n",
       "    .dataframe tbody tr th {\n",
       "        vertical-align: top;\n",
       "    }\n",
       "\n",
       "    .dataframe thead th {\n",
       "        text-align: right;\n",
       "    }\n",
       "</style>\n",
       "<table border=\"1\" class=\"dataframe\">\n",
       "  <thead>\n",
       "    <tr style=\"text-align: right;\">\n",
       "      <th></th>\n",
       "      <th>ROW_ID</th>\n",
       "      <th>SUBJECT_ID</th>\n",
       "      <th>GENDER</th>\n",
       "      <th>DOB</th>\n",
       "      <th>DOD</th>\n",
       "      <th>DOD_HOSP</th>\n",
       "      <th>DOD_SSN</th>\n",
       "      <th>EXPIRE_FLAG</th>\n",
       "    </tr>\n",
       "  </thead>\n",
       "  <tbody>\n",
       "    <tr>\n",
       "      <th>0</th>\n",
       "      <td>33888</td>\n",
       "      <td>51786</td>\n",
       "      <td>F</td>\n",
       "      <td>2090-04-16 00:00:00+00:00</td>\n",
       "      <td>&lt;NA&gt;</td>\n",
       "      <td>&lt;NA&gt;</td>\n",
       "      <td>&lt;NA&gt;</td>\n",
       "      <td>0</td>\n",
       "    </tr>\n",
       "    <tr>\n",
       "      <th>1</th>\n",
       "      <td>23653</td>\n",
       "      <td>25061</td>\n",
       "      <td>M</td>\n",
       "      <td>2114-07-11 00:00:00+00:00</td>\n",
       "      <td>2192-12-02 00:00:00+00:00</td>\n",
       "      <td>2192-12-02 00:00:00+00:00</td>\n",
       "      <td>2192-12-02 00:00:00+00:00</td>\n",
       "      <td>1</td>\n",
       "    </tr>\n",
       "    <tr>\n",
       "      <th>2</th>\n",
       "      <td>44113</td>\n",
       "      <td>90788</td>\n",
       "      <td>M</td>\n",
       "      <td>2094-04-24 00:00:00+00:00</td>\n",
       "      <td>&lt;NA&gt;</td>\n",
       "      <td>&lt;NA&gt;</td>\n",
       "      <td>&lt;NA&gt;</td>\n",
       "      <td>0</td>\n",
       "    </tr>\n",
       "    <tr>\n",
       "      <th>3</th>\n",
       "      <td>3452</td>\n",
       "      <td>3652</td>\n",
       "      <td>F</td>\n",
       "      <td>2042-07-26 00:00:00+00:00</td>\n",
       "      <td>2123-10-14 00:00:00+00:00</td>\n",
       "      <td>2123-10-14 00:00:00+00:00</td>\n",
       "      <td>2123-10-14 00:00:00+00:00</td>\n",
       "      <td>1</td>\n",
       "    </tr>\n",
       "    <tr>\n",
       "      <th>4</th>\n",
       "      <td>10760</td>\n",
       "      <td>11381</td>\n",
       "      <td>M</td>\n",
       "      <td>2143-04-22 00:00:00+00:00</td>\n",
       "      <td>&lt;NA&gt;</td>\n",
       "      <td>&lt;NA&gt;</td>\n",
       "      <td>&lt;NA&gt;</td>\n",
       "      <td>0</td>\n",
       "    </tr>\n",
       "  </tbody>\n",
       "</table>\n",
       "<p>5 rows × 8 columns</p>\n",
       "</div>[5 rows x 8 columns in total]"
      ],
      "text/plain": [
       "   ROW_ID  SUBJECT_ID GENDER                        DOB  \\\n",
       "0   33888       51786      F  2090-04-16 00:00:00+00:00   \n",
       "1   23653       25061      M  2114-07-11 00:00:00+00:00   \n",
       "2   44113       90788      M  2094-04-24 00:00:00+00:00   \n",
       "3    3452        3652      F  2042-07-26 00:00:00+00:00   \n",
       "4   10760       11381      M  2143-04-22 00:00:00+00:00   \n",
       "\n",
       "                         DOD                   DOD_HOSP  \\\n",
       "0                       <NA>                       <NA>   \n",
       "1  2192-12-02 00:00:00+00:00  2192-12-02 00:00:00+00:00   \n",
       "2                       <NA>                       <NA>   \n",
       "3  2123-10-14 00:00:00+00:00  2123-10-14 00:00:00+00:00   \n",
       "4                       <NA>                       <NA>   \n",
       "\n",
       "                     DOD_SSN  EXPIRE_FLAG  \n",
       "0                       <NA>            0  \n",
       "1  2192-12-02 00:00:00+00:00            1  \n",
       "2                       <NA>            0  \n",
       "3  2123-10-14 00:00:00+00:00            1  \n",
       "4                       <NA>            0  \n",
       "\n",
       "[5 rows x 8 columns]"
      ]
     },
     "execution_count": 18,
     "metadata": {},
     "output_type": "execute_result"
    }
   ],
   "source": [
    "# Lets load the patients\n",
    "patients = bpd.read_gbq(f\"{project}.MIMIC.PATIENTS\")\n",
    "patients.head()"
   ]
  },
  {
   "cell_type": "code",
   "execution_count": 19,
   "id": "25b67747-dd0f-47c7-bd85-4c33f5b98708",
   "metadata": {},
   "outputs": [
    {
     "data": {
      "text/plain": [
       "(46520, 8)"
      ]
     },
     "execution_count": 19,
     "metadata": {},
     "output_type": "execute_result"
    }
   ],
   "source": [
    "patients.shape"
   ]
  },
  {
   "cell_type": "code",
   "execution_count": 20,
   "id": "6e1574e6-027f-466a-a66d-9e7c2dce8526",
   "metadata": {},
   "outputs": [],
   "source": [
    "bf.pandas.close_session()"
   ]
  },
  {
   "cell_type": "code",
   "execution_count": null,
   "id": "52664074-af94-4f65-a92a-d4085f68d8f3",
   "metadata": {},
   "outputs": [],
   "source": []
  }
 ],
 "metadata": {
  "kernelspec": {
   "display_name": "Python 3 (ipykernel)",
   "language": "python",
   "name": "python3"
  },
  "language_info": {
   "codemirror_mode": {
    "name": "ipython",
    "version": 3
   },
   "file_extension": ".py",
   "mimetype": "text/x-python",
   "name": "python",
   "nbconvert_exporter": "python",
   "pygments_lexer": "ipython3",
   "version": "3.10.12"
  }
 },
 "nbformat": 4,
 "nbformat_minor": 5
}
