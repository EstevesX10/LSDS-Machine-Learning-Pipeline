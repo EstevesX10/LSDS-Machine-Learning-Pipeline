{
 "cells": [
  {
   "cell_type": "markdown",
   "id": "8296de49-378a-4133-8d58-2371065a1111",
   "metadata": {},
   "source": [
    "---\n",
    "<div align=\"center\">\n",
    "\n",
    "# LSDS | Machine Learning Pipeline\n",
    "</div>\n",
    "\n",
    "---\n",
    "\n",
    "> ADD PROJECT OVERVIEW"
   ]
  },
  {
   "cell_type": "markdown",
   "id": "3c587734-869d-4d88-b8c4-4008788c3f1a",
   "metadata": {},
   "source": [
    "---\n",
    "## Project Dependencies\n",
    "---"
   ]
  },
  {
   "cell_type": "code",
   "execution_count": 1,
   "id": "d19a75ab-08c9-476e-86c8-3a4803337c4c",
   "metadata": {},
   "outputs": [],
   "source": [
    "%load_ext autoreload\n",
    "%autoreload 2"
   ]
  },
  {
   "cell_type": "code",
   "execution_count": 2,
   "id": "e4877b42-d64d-4eea-a850-d0dcebdb11c6",
   "metadata": {},
   "outputs": [],
   "source": [
    "# Remove Warnings\n",
    "import warnings\n",
    "warnings.filterwarnings('ignore')\n",
    "from time import (time)"
   ]
  },
  {
   "cell_type": "code",
   "execution_count": 3,
   "id": "b5081967-6107-4a3c-bf4f-154fa5d4e6a7",
   "metadata": {},
   "outputs": [
    {
     "name": "stdout",
     "output_type": "stream",
     "text": [
      "Took 1.169e+00(s) to import all the modules!\n"
     ]
    }
   ],
   "source": [
    "# Get the starting time before importing the modules\n",
    "startTime = time()\n",
    "\n",
    "# Import modules\n",
    "import numpy as np\n",
    "import pandas as pd\n",
    "from pyspark.ml.feature import StringIndexer, OneHotEncoder, VectorAssembler\n",
    "from pyspark.ml.regression import LinearRegression, RandomForestRegressor\n",
    "from pyspark.sql.types import ArrayType, StringType, BooleanType\n",
    "from pyspark.ml.evaluation import RegressionEvaluator\n",
    "from pyspark.sql import functions as F\n",
    "from pyspark.sql.window import Window\n",
    "from pyspark.sql import SparkSession\n",
    "from pyspark.ml import Pipeline\n",
    "from pprint import pprint\n",
    "\n",
    "# Custom Imports\n",
    "from Utils import (loadConfig, loadPathsConfig)\n",
    "from DataPreprocessing.DatasetManager import (DatasetManager)\n",
    "\n",
    "# Print the amount of time it took to import everything\n",
    "print(f\"Took{(time() - startTime) : .3e}(s) to import all the modules!\")"
   ]
  },
  {
   "cell_type": "code",
   "execution_count": 4,
   "id": "94f4bae6-2079-4c89-8623-63d036f13693",
   "metadata": {},
   "outputs": [],
   "source": [
    "# Load the configs\n",
    "config = loadConfig()\n",
    "pathsConfig = loadPathsConfig()"
   ]
  },
  {
   "cell_type": "code",
   "execution_count": 5,
   "id": "0203186d-d16c-4440-b710-a7203cf82c6f",
   "metadata": {},
   "outputs": [
    {
     "name": "stdout",
     "output_type": "stream",
     "text": [
      "{'seed': 14, 'targetFeature': 'LOS'}\n",
      "{'Datasets': {'ADMISSIONS': './Datasets/ADMISSIONS.csv',\n",
      "              'CHARTEVENTS': './Datasets/CHARTEVENTS.csv',\n",
      "              'DIAGNOSIS_ICD': './Datasets/DIAGNOSES_ICD.csv',\n",
      "              'ICUSTAYS': './Datasets/ICUSTAYS.csv',\n",
      "              'PATIENTS': './Datasets/PATIENTS.csv'}}\n"
     ]
    }
   ],
   "source": [
    "# Print the configs\n",
    "pprint(config)\n",
    "pprint(pathsConfig)"
   ]
  },
  {
   "cell_type": "code",
   "execution_count": 6,
   "id": "db9346ed-bb47-4f35-81e9-897eada69118",
   "metadata": {},
   "outputs": [],
   "source": [
    "# Create a Apache Spark Session\n",
    "spark = SparkSession.builder \\\n",
    "    .appName(\"Intensive Care Unit Data Analysis\") \\\n",
    "    .config(\"spark.driver.memory\", \"6g\") \\\n",
    "    .config(\"spark.executor.memory\", \"6g\") \\\n",
    "    .config(\"spark.memory.fraction\", \"0.9\") \\\n",
    "    .config(\"spark.memory.storageFraction\", \"0.5\") \\\n",
    "    .getOrCreate()\n",
    "\n",
    "# check spark configs to only errors:\n",
    "\n",
    "spark.sparkContext.setLogLevel(\"ERROR\")\n",
    "spark.conf.set(\"spark.sql.shuffle.partitions\", \"500\")\n",
    "spark.conf.set(\"spark.sql.debug.maxToStringFields\", \"1000\")"
   ]
  },
  {
   "cell_type": "code",
   "execution_count": 11,
   "id": "17d28a15-9e69-4ff4-8f09-7e0bd805d91b",
   "metadata": {},
   "outputs": [],
   "source": [
    "# Create a dataset manager\n",
    "dsManager = DatasetManager(sparkSession=spark, config=config, pathsConfig=pathsConfig)"
   ]
  },
  {
   "cell_type": "code",
   "execution_count": 12,
   "id": "c42c3a80-a76a-428f-9377-f733d287aab1",
   "metadata": {},
   "outputs": [],
   "source": [
    "dsManager.loadAllDataFrames()"
   ]
  },
  {
   "cell_type": "code",
   "execution_count": 13,
   "id": "41cfe3d2-e179-4de3-ae6f-96e8fb8f5b0a",
   "metadata": {},
   "outputs": [
    {
     "data": {
      "text/plain": [
       "{'ADMISSIONS': DataFrame[SUBJECT_ID: int, HADM_ID: int, ADMITTIME: timestamp, DISCHTIME: timestamp, DEATHTIME: timestamp, ADMISSION_TYPE: string, ADMISSION_LOCATION: string, DISCHARGE_LOCATION: string, INSURANCE: string, LANGUAGE: string, RELIGION: string, MARITAL_STATUS: string, ETHNICITY: string, EDREGTIME: timestamp, EDOUTTIME: timestamp, DIAGNOSIS: string, HOSPITAL_EXPIRE_FLAG: int, HAS_CHARTEVENTS_DATA: int],\n",
       " 'DIAGNOSIS_ICD': DataFrame[SUBJECT_ID: int, HADM_ID: int, SEQ_NUM: int, ICD9_CODE: string],\n",
       " 'ICUSTAYS': DataFrame[SUBJECT_ID: int, HADM_ID: int, ICUSTAY_ID: int, DBSOURCE: string, FIRST_CAREUNIT: string, LAST_CAREUNIT: string, FIRST_WARDID: int, LAST_WARDID: int, INTIME: timestamp, OUTTIME: timestamp, LOS: double],\n",
       " 'PATIENTS': DataFrame[SUBJECT_ID: int, GENDER: string, DOB: timestamp, DOD: timestamp, DOD_HOSP: timestamp, DOD_SSN: timestamp, EXPIRE_FLAG: int]}"
      ]
     },
     "execution_count": 13,
     "metadata": {},
     "output_type": "execute_result"
    }
   ],
   "source": [
    "dsManager.dataframes\n",
    "# type(dsManager.dataframes['ADMISSIONS'])"
   ]
  },
  {
   "cell_type": "code",
   "execution_count": 36,
   "id": "f6493620-d7ec-479e-b4e1-9653d5053b63",
   "metadata": {},
   "outputs": [],
   "source": [
    "# Testing the timit decorator\n",
    "# result = dsManager.printConfig()\n",
    "df = dsManager.loadDataFrame(filename='ADMISSIONS')"
   ]
  },
  {
   "cell_type": "code",
   "execution_count": 11,
   "id": "1e7b7f68-12c0-4b86-94f6-797f01de2476",
   "metadata": {},
   "outputs": [
    {
     "name": "stdout",
     "output_type": "stream",
     "text": [
      "\n",
      " DataFrame[summary: string, SUBJECT_ID: string, HADM_ID: string, ADMISSION_TYPE: string, ADMISSION_LOCATION: string, DISCHARGE_LOCATION: string, INSURANCE: string, LANGUAGE: string, RELIGION: string, MARITAL_STATUS: string, ETHNICITY: string, DIAGNOSIS: string, HOSPITAL_EXPIRE_FLAG: string, HAS_CHARTEVENTS_DATA: string] \n",
      "\n"
     ]
    },
    {
     "data": {
      "text/html": [
       "<div>\n",
       "<style scoped>\n",
       "    .dataframe tbody tr th:only-of-type {\n",
       "        vertical-align: middle;\n",
       "    }\n",
       "\n",
       "    .dataframe tbody tr th {\n",
       "        vertical-align: top;\n",
       "    }\n",
       "\n",
       "    .dataframe thead th {\n",
       "        text-align: right;\n",
       "    }\n",
       "</style>\n",
       "<table border=\"1\" class=\"dataframe\">\n",
       "  <thead>\n",
       "    <tr style=\"text-align: right;\">\n",
       "      <th></th>\n",
       "      <th>SUBJECT_ID</th>\n",
       "      <th>HADM_ID</th>\n",
       "      <th>ADMITTIME</th>\n",
       "      <th>DISCHTIME</th>\n",
       "      <th>DEATHTIME</th>\n",
       "      <th>ADMISSION_TYPE</th>\n",
       "      <th>ADMISSION_LOCATION</th>\n",
       "      <th>DISCHARGE_LOCATION</th>\n",
       "      <th>INSURANCE</th>\n",
       "      <th>LANGUAGE</th>\n",
       "      <th>RELIGION</th>\n",
       "      <th>MARITAL_STATUS</th>\n",
       "      <th>ETHNICITY</th>\n",
       "      <th>EDREGTIME</th>\n",
       "      <th>EDOUTTIME</th>\n",
       "      <th>DIAGNOSIS</th>\n",
       "      <th>HOSPITAL_EXPIRE_FLAG</th>\n",
       "      <th>HAS_CHARTEVENTS_DATA</th>\n",
       "    </tr>\n",
       "  </thead>\n",
       "  <tbody>\n",
       "    <tr>\n",
       "      <th>0</th>\n",
       "      <td>22</td>\n",
       "      <td>165315</td>\n",
       "      <td>2196-04-09 11:26:00</td>\n",
       "      <td>2196-04-10 14:54:00</td>\n",
       "      <td>NaT</td>\n",
       "      <td>EMERGENCY</td>\n",
       "      <td>EMERGENCY ROOM ADMIT</td>\n",
       "      <td>DISC-TRAN CANCER/CHLDRN H</td>\n",
       "      <td>Private</td>\n",
       "      <td>None</td>\n",
       "      <td>UNOBTAINABLE</td>\n",
       "      <td>MARRIED</td>\n",
       "      <td>WHITE</td>\n",
       "      <td>2196-04-09 09:06:00</td>\n",
       "      <td>2196-04-09 12:24:00</td>\n",
       "      <td>BENZODIAZEPINE OVERDOSE</td>\n",
       "      <td>0</td>\n",
       "      <td>1</td>\n",
       "    </tr>\n",
       "    <tr>\n",
       "      <th>1</th>\n",
       "      <td>23</td>\n",
       "      <td>152223</td>\n",
       "      <td>2153-09-03 06:15:00</td>\n",
       "      <td>2153-09-08 18:10:00</td>\n",
       "      <td>NaT</td>\n",
       "      <td>ELECTIVE</td>\n",
       "      <td>PHYS REFERRAL/NORMAL DELI</td>\n",
       "      <td>HOME HEALTH CARE</td>\n",
       "      <td>Medicare</td>\n",
       "      <td>None</td>\n",
       "      <td>CATHOLIC</td>\n",
       "      <td>MARRIED</td>\n",
       "      <td>WHITE</td>\n",
       "      <td>NaT</td>\n",
       "      <td>NaT</td>\n",
       "      <td>CORONARY ARTERY DISEASE\\CORONARY ARTERY BYPASS...</td>\n",
       "      <td>0</td>\n",
       "      <td>1</td>\n",
       "    </tr>\n",
       "    <tr>\n",
       "      <th>2</th>\n",
       "      <td>23</td>\n",
       "      <td>124321</td>\n",
       "      <td>2157-10-18 18:34:00</td>\n",
       "      <td>2157-10-25 13:00:00</td>\n",
       "      <td>NaT</td>\n",
       "      <td>EMERGENCY</td>\n",
       "      <td>TRANSFER FROM HOSP/EXTRAM</td>\n",
       "      <td>HOME HEALTH CARE</td>\n",
       "      <td>Medicare</td>\n",
       "      <td>ENGL</td>\n",
       "      <td>CATHOLIC</td>\n",
       "      <td>MARRIED</td>\n",
       "      <td>WHITE</td>\n",
       "      <td>NaT</td>\n",
       "      <td>NaT</td>\n",
       "      <td>BRAIN MASS</td>\n",
       "      <td>0</td>\n",
       "      <td>1</td>\n",
       "    </tr>\n",
       "  </tbody>\n",
       "</table>\n",
       "</div>"
      ],
      "text/plain": [
       "   SUBJECT_ID  HADM_ID           ADMITTIME           DISCHTIME DEATHTIME  \\\n",
       "0          22   165315 2196-04-09 11:26:00 2196-04-10 14:54:00       NaT   \n",
       "1          23   152223 2153-09-03 06:15:00 2153-09-08 18:10:00       NaT   \n",
       "2          23   124321 2157-10-18 18:34:00 2157-10-25 13:00:00       NaT   \n",
       "\n",
       "  ADMISSION_TYPE         ADMISSION_LOCATION         DISCHARGE_LOCATION  \\\n",
       "0      EMERGENCY       EMERGENCY ROOM ADMIT  DISC-TRAN CANCER/CHLDRN H   \n",
       "1       ELECTIVE  PHYS REFERRAL/NORMAL DELI           HOME HEALTH CARE   \n",
       "2      EMERGENCY  TRANSFER FROM HOSP/EXTRAM           HOME HEALTH CARE   \n",
       "\n",
       "  INSURANCE LANGUAGE      RELIGION MARITAL_STATUS ETHNICITY  \\\n",
       "0   Private     None  UNOBTAINABLE        MARRIED     WHITE   \n",
       "1  Medicare     None      CATHOLIC        MARRIED     WHITE   \n",
       "2  Medicare     ENGL      CATHOLIC        MARRIED     WHITE   \n",
       "\n",
       "            EDREGTIME           EDOUTTIME  \\\n",
       "0 2196-04-09 09:06:00 2196-04-09 12:24:00   \n",
       "1                 NaT                 NaT   \n",
       "2                 NaT                 NaT   \n",
       "\n",
       "                                           DIAGNOSIS  HOSPITAL_EXPIRE_FLAG  \\\n",
       "0                            BENZODIAZEPINE OVERDOSE                     0   \n",
       "1  CORONARY ARTERY DISEASE\\CORONARY ARTERY BYPASS...                     0   \n",
       "2                                         BRAIN MASS                     0   \n",
       "\n",
       "   HAS_CHARTEVENTS_DATA  \n",
       "0                     1  \n",
       "1                     1  \n",
       "2                     1  "
      ]
     },
     "execution_count": 11,
     "metadata": {},
     "output_type": "execute_result"
    }
   ],
   "source": [
    "# %%timeit\n",
    "admissions = dsManager.loadDataFrame(filename='ADMISSIONS')\n",
    "print(\"\\n\", admissions.describe(), \"\\n\")\n",
    "admissions.limit(3).toPandas()"
   ]
  },
  {
   "cell_type": "code",
   "execution_count": 17,
   "id": "71f3de3c-b923-41bf-8af9-f3be615d6cb2",
   "metadata": {},
   "outputs": [],
   "source": [
    "# %%timeit\n",
    "# chartEvents = dsManager.loadDataFrame(filename='CHARTEVENTS')\n",
    "# print(\"\\n\", chartEvents.describe(), \"\\n\")\n",
    "# chartEvents.limit(3).toPandas()"
   ]
  },
  {
   "cell_type": "code",
   "execution_count": 14,
   "id": "81a54f9d-86da-4483-a49f-782d683c2006",
   "metadata": {},
   "outputs": [
    {
     "name": "stdout",
     "output_type": "stream",
     "text": [
      "\n",
      " DataFrame[summary: string, SUBJECT_ID: string, HADM_ID: string, SEQ_NUM: string, ICD9_CODE: string] \n",
      "\n"
     ]
    },
    {
     "data": {
      "text/html": [
       "<div>\n",
       "<style scoped>\n",
       "    .dataframe tbody tr th:only-of-type {\n",
       "        vertical-align: middle;\n",
       "    }\n",
       "\n",
       "    .dataframe tbody tr th {\n",
       "        vertical-align: top;\n",
       "    }\n",
       "\n",
       "    .dataframe thead th {\n",
       "        text-align: right;\n",
       "    }\n",
       "</style>\n",
       "<table border=\"1\" class=\"dataframe\">\n",
       "  <thead>\n",
       "    <tr style=\"text-align: right;\">\n",
       "      <th></th>\n",
       "      <th>SUBJECT_ID</th>\n",
       "      <th>HADM_ID</th>\n",
       "      <th>SEQ_NUM</th>\n",
       "      <th>ICD9_CODE</th>\n",
       "    </tr>\n",
       "  </thead>\n",
       "  <tbody>\n",
       "    <tr>\n",
       "      <th>0</th>\n",
       "      <td>109</td>\n",
       "      <td>172335</td>\n",
       "      <td>1</td>\n",
       "      <td>40301</td>\n",
       "    </tr>\n",
       "    <tr>\n",
       "      <th>1</th>\n",
       "      <td>109</td>\n",
       "      <td>172335</td>\n",
       "      <td>2</td>\n",
       "      <td>486</td>\n",
       "    </tr>\n",
       "    <tr>\n",
       "      <th>2</th>\n",
       "      <td>109</td>\n",
       "      <td>172335</td>\n",
       "      <td>3</td>\n",
       "      <td>58281</td>\n",
       "    </tr>\n",
       "  </tbody>\n",
       "</table>\n",
       "</div>"
      ],
      "text/plain": [
       "   SUBJECT_ID  HADM_ID  SEQ_NUM ICD9_CODE\n",
       "0         109   172335        1     40301\n",
       "1         109   172335        2       486\n",
       "2         109   172335        3     58281"
      ]
     },
     "execution_count": 14,
     "metadata": {},
     "output_type": "execute_result"
    }
   ],
   "source": [
    "# %%timeit\n",
    "diagnosis = dsManager.loadDataFrame(filename='DIAGNOSIS_ICD')\n",
    "print(\"\\n\", diagnosis.describe(), \"\\n\")\n",
    "diagnosis.limit(3).toPandas()"
   ]
  },
  {
   "cell_type": "code",
   "execution_count": 15,
   "id": "d8f861d3-b001-4d85-9a75-d95bcb51c941",
   "metadata": {},
   "outputs": [
    {
     "name": "stdout",
     "output_type": "stream",
     "text": [
      "\n",
      " DataFrame[summary: string, SUBJECT_ID: string, HADM_ID: string, ICUSTAY_ID: string, DBSOURCE: string, FIRST_CAREUNIT: string, LAST_CAREUNIT: string, FIRST_WARDID: string, LAST_WARDID: string, LOS: string] \n",
      "\n"
     ]
    },
    {
     "data": {
      "text/html": [
       "<div>\n",
       "<style scoped>\n",
       "    .dataframe tbody tr th:only-of-type {\n",
       "        vertical-align: middle;\n",
       "    }\n",
       "\n",
       "    .dataframe tbody tr th {\n",
       "        vertical-align: top;\n",
       "    }\n",
       "\n",
       "    .dataframe thead th {\n",
       "        text-align: right;\n",
       "    }\n",
       "</style>\n",
       "<table border=\"1\" class=\"dataframe\">\n",
       "  <thead>\n",
       "    <tr style=\"text-align: right;\">\n",
       "      <th></th>\n",
       "      <th>SUBJECT_ID</th>\n",
       "      <th>HADM_ID</th>\n",
       "      <th>ICUSTAY_ID</th>\n",
       "      <th>DBSOURCE</th>\n",
       "      <th>FIRST_CAREUNIT</th>\n",
       "      <th>LAST_CAREUNIT</th>\n",
       "      <th>FIRST_WARDID</th>\n",
       "      <th>LAST_WARDID</th>\n",
       "      <th>INTIME</th>\n",
       "      <th>OUTTIME</th>\n",
       "      <th>LOS</th>\n",
       "    </tr>\n",
       "  </thead>\n",
       "  <tbody>\n",
       "    <tr>\n",
       "      <th>0</th>\n",
       "      <td>268</td>\n",
       "      <td>110404</td>\n",
       "      <td>280836</td>\n",
       "      <td>carevue</td>\n",
       "      <td>MICU</td>\n",
       "      <td>MICU</td>\n",
       "      <td>52</td>\n",
       "      <td>52</td>\n",
       "      <td>2198-02-14 23:27:38</td>\n",
       "      <td>2198-02-18 05:26:11</td>\n",
       "      <td>3.2490</td>\n",
       "    </tr>\n",
       "    <tr>\n",
       "      <th>1</th>\n",
       "      <td>269</td>\n",
       "      <td>106296</td>\n",
       "      <td>206613</td>\n",
       "      <td>carevue</td>\n",
       "      <td>MICU</td>\n",
       "      <td>MICU</td>\n",
       "      <td>52</td>\n",
       "      <td>52</td>\n",
       "      <td>2170-11-05 11:05:29</td>\n",
       "      <td>2170-11-08 17:46:57</td>\n",
       "      <td>3.2788</td>\n",
       "    </tr>\n",
       "    <tr>\n",
       "      <th>2</th>\n",
       "      <td>270</td>\n",
       "      <td>188028</td>\n",
       "      <td>220345</td>\n",
       "      <td>carevue</td>\n",
       "      <td>CCU</td>\n",
       "      <td>CCU</td>\n",
       "      <td>57</td>\n",
       "      <td>57</td>\n",
       "      <td>2128-06-24 14:05:20</td>\n",
       "      <td>2128-06-27 11:32:29</td>\n",
       "      <td>2.8939</td>\n",
       "    </tr>\n",
       "  </tbody>\n",
       "</table>\n",
       "</div>"
      ],
      "text/plain": [
       "   SUBJECT_ID  HADM_ID  ICUSTAY_ID DBSOURCE FIRST_CAREUNIT LAST_CAREUNIT  \\\n",
       "0         268   110404      280836  carevue           MICU          MICU   \n",
       "1         269   106296      206613  carevue           MICU          MICU   \n",
       "2         270   188028      220345  carevue            CCU           CCU   \n",
       "\n",
       "   FIRST_WARDID  LAST_WARDID              INTIME             OUTTIME     LOS  \n",
       "0            52           52 2198-02-14 23:27:38 2198-02-18 05:26:11  3.2490  \n",
       "1            52           52 2170-11-05 11:05:29 2170-11-08 17:46:57  3.2788  \n",
       "2            57           57 2128-06-24 14:05:20 2128-06-27 11:32:29  2.8939  "
      ]
     },
     "execution_count": 15,
     "metadata": {},
     "output_type": "execute_result"
    }
   ],
   "source": [
    "# %%timeit\n",
    "icuStays = dsManager.loadDataFrame(filename='ICUSTAYS')\n",
    "print(\"\\n\", icuStays.describe(), \"\\n\")\n",
    "icuStays.limit(3).toPandas()"
   ]
  },
  {
   "cell_type": "code",
   "execution_count": 16,
   "id": "27f83000-2b40-4dcf-b69f-63d724a72ff2",
   "metadata": {},
   "outputs": [
    {
     "name": "stdout",
     "output_type": "stream",
     "text": [
      "\n",
      " DataFrame[summary: string, SUBJECT_ID: string, GENDER: string, EXPIRE_FLAG: string] \n",
      "\n"
     ]
    },
    {
     "data": {
      "text/html": [
       "<div>\n",
       "<style scoped>\n",
       "    .dataframe tbody tr th:only-of-type {\n",
       "        vertical-align: middle;\n",
       "    }\n",
       "\n",
       "    .dataframe tbody tr th {\n",
       "        vertical-align: top;\n",
       "    }\n",
       "\n",
       "    .dataframe thead th {\n",
       "        text-align: right;\n",
       "    }\n",
       "</style>\n",
       "<table border=\"1\" class=\"dataframe\">\n",
       "  <thead>\n",
       "    <tr style=\"text-align: right;\">\n",
       "      <th></th>\n",
       "      <th>SUBJECT_ID</th>\n",
       "      <th>GENDER</th>\n",
       "      <th>DOB</th>\n",
       "      <th>DOD</th>\n",
       "      <th>DOD_HOSP</th>\n",
       "      <th>DOD_SSN</th>\n",
       "      <th>EXPIRE_FLAG</th>\n",
       "    </tr>\n",
       "  </thead>\n",
       "  <tbody>\n",
       "    <tr>\n",
       "      <th>0</th>\n",
       "      <td>249</td>\n",
       "      <td>F</td>\n",
       "      <td>2075-03-13</td>\n",
       "      <td>NaT</td>\n",
       "      <td>NaT</td>\n",
       "      <td>NaT</td>\n",
       "      <td>0</td>\n",
       "    </tr>\n",
       "    <tr>\n",
       "      <th>1</th>\n",
       "      <td>250</td>\n",
       "      <td>F</td>\n",
       "      <td>2164-12-27</td>\n",
       "      <td>2188-11-22</td>\n",
       "      <td>2188-11-22</td>\n",
       "      <td>NaT</td>\n",
       "      <td>1</td>\n",
       "    </tr>\n",
       "    <tr>\n",
       "      <th>2</th>\n",
       "      <td>251</td>\n",
       "      <td>M</td>\n",
       "      <td>2090-03-15</td>\n",
       "      <td>NaT</td>\n",
       "      <td>NaT</td>\n",
       "      <td>NaT</td>\n",
       "      <td>0</td>\n",
       "    </tr>\n",
       "  </tbody>\n",
       "</table>\n",
       "</div>"
      ],
      "text/plain": [
       "   SUBJECT_ID GENDER        DOB        DOD   DOD_HOSP DOD_SSN  EXPIRE_FLAG\n",
       "0         249      F 2075-03-13        NaT        NaT     NaT            0\n",
       "1         250      F 2164-12-27 2188-11-22 2188-11-22     NaT            1\n",
       "2         251      M 2090-03-15        NaT        NaT     NaT            0"
      ]
     },
     "execution_count": 16,
     "metadata": {},
     "output_type": "execute_result"
    }
   ],
   "source": [
    "# %%timeit\n",
    "patients = dsManager.loadDataFrame(filename='PATIENTS')\n",
    "print(\"\\n\", patients.describe(), \"\\n\")\n",
    "patients.limit(3).toPandas()"
   ]
  },
  {
   "cell_type": "markdown",
   "id": "4bbaa033-dda7-4053-be64-6623b8bca0ad",
   "metadata": {},
   "source": [
    "---\n",
    "---\n",
    "---\n",
    "\n",
    "## Testing pyspark"
   ]
  },
  {
   "cell_type": "code",
   "execution_count": 4,
   "id": "d72f966d-acde-4c60-8e12-b2407a33c578",
   "metadata": {},
   "outputs": [],
   "source": [
    "spark = SparkSession.builder.getOrCreate()"
   ]
  },
  {
   "cell_type": "code",
   "execution_count": 5,
   "id": "b3f2e6ed-d917-4e1c-abb2-ccdc1ff3fb9f",
   "metadata": {},
   "outputs": [
    {
     "data": {
      "text/plain": [
       "DataFrame[ROW_ID: string, SUBJECT_ID: string, HADM_ID: string, ICUSTAY_ID: string, ITEMID: string, CHARTTIME: string, STORETIME: string, CGID: string, VALUE: string, VALUENUM: string, VALUEUOM: string, WARNING: string, ERROR: string, RESULTSTATUS: string, STOPPED: string]"
      ]
     },
     "execution_count": 5,
     "metadata": {},
     "output_type": "execute_result"
    }
   ],
   "source": [
    "# spark.read.csv('./Datasets/CHARTEVENTS.csv', header=True).show()\n",
    "spark.read.csv('./Machine-Learning-Pipeline/Datasets/CHARTEVENTS.csv', header=True)"
   ]
  },
  {
   "cell_type": "code",
   "execution_count": 7,
   "id": "c200795c-0fd4-448b-9feb-f12e96a8a10c",
   "metadata": {},
   "outputs": [],
   "source": [
    "import pandas as pd\n",
    "from pyspark.sql.functions import pandas_udf\n",
    "\n",
    "@pandas_udf('long')\n",
    "def pandas_plus_one(series: pd.Series) -> pd.Series:\n",
    "    # Simply plus one by using pandas Series.\n",
    "    return series + 1"
   ]
  }
 ],
 "metadata": {
  "kernelspec": {
   "display_name": "Python 3 (ipykernel)",
   "language": "python",
   "name": "python3"
  },
  "language_info": {
   "codemirror_mode": {
    "name": "ipython",
    "version": 3
   },
   "file_extension": ".py",
   "mimetype": "text/x-python",
   "name": "python",
   "nbconvert_exporter": "python",
   "pygments_lexer": "ipython3",
   "version": "3.10.12"
  }
 },
 "nbformat": 4,
 "nbformat_minor": 5
}
