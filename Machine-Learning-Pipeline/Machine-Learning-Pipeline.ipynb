{
 "cells": [
  {
   "cell_type": "markdown",
   "id": "8296de49-378a-4133-8d58-2371065a1111",
   "metadata": {},
   "source": [
    "---\n",
    "<div align=\"center\">\n",
    "\n",
    "# LSDS | Machine Learning Pipeline\n",
    "</div>\n",
    "\n",
    "---\n",
    "\n",
    "> ADD PROJECT OVERVIEW"
   ]
  },
  {
   "cell_type": "markdown",
   "id": "3c587734-869d-4d88-b8c4-4008788c3f1a",
   "metadata": {},
   "source": [
    "---\n",
    "## Project Dependencies\n",
    "---"
   ]
  },
  {
   "cell_type": "code",
   "execution_count": 1,
   "id": "d19a75ab-08c9-476e-86c8-3a4803337c4c",
   "metadata": {},
   "outputs": [],
   "source": [
    "%load_ext autoreload\n",
    "%autoreload 2"
   ]
  },
  {
   "cell_type": "code",
   "execution_count": 2,
   "id": "e4877b42-d64d-4eea-a850-d0dcebdb11c6",
   "metadata": {},
   "outputs": [],
   "source": [
    "# Remove Warnings\n",
    "import warnings\n",
    "warnings.filterwarnings('ignore')"
   ]
  },
  {
   "cell_type": "markdown",
   "id": "4bbaa033-dda7-4053-be64-6623b8bca0ad",
   "metadata": {},
   "source": [
    "---\n",
    "---\n",
    "---\n",
    "\n",
    "## Testing pyspark"
   ]
  },
  {
   "cell_type": "code",
   "execution_count": 3,
   "id": "bb9efba3-61a5-4c8d-8bd1-37bf2ec9cb7d",
   "metadata": {},
   "outputs": [],
   "source": [
    "from pyspark.sql import SparkSession"
   ]
  },
  {
   "cell_type": "code",
   "execution_count": 4,
   "id": "d72f966d-acde-4c60-8e12-b2407a33c578",
   "metadata": {},
   "outputs": [],
   "source": [
    "spark = SparkSession.builder.getOrCreate()"
   ]
  },
  {
   "cell_type": "code",
   "execution_count": 5,
   "id": "b3f2e6ed-d917-4e1c-abb2-ccdc1ff3fb9f",
   "metadata": {},
   "outputs": [
    {
     "data": {
      "text/plain": [
       "DataFrame[ROW_ID: string, SUBJECT_ID: string, HADM_ID: string, ICUSTAY_ID: string, ITEMID: string, CHARTTIME: string, STORETIME: string, CGID: string, VALUE: string, VALUENUM: string, VALUEUOM: string, WARNING: string, ERROR: string, RESULTSTATUS: string, STOPPED: string]"
      ]
     },
     "execution_count": 5,
     "metadata": {},
     "output_type": "execute_result"
    }
   ],
   "source": [
    "# spark.read.csv('./Datasets/CHARTEVENTS.csv', header=True).show()\n",
    "spark.read.csv('./Machine-Learning-Pipeline/Datasets/CHARTEVENTS.csv', header=True)"
   ]
  },
  {
   "cell_type": "code",
   "execution_count": 7,
   "id": "c200795c-0fd4-448b-9feb-f12e96a8a10c",
   "metadata": {},
   "outputs": [],
   "source": [
    "import pandas as pd\n",
    "from pyspark.sql.functions import pandas_udf\n",
    "\n",
    "@pandas_udf('long')\n",
    "def pandas_plus_one(series: pd.Series) -> pd.Series:\n",
    "    # Simply plus one by using pandas Series.\n",
    "    return series + 1"
   ]
  }
 ],
 "metadata": {
  "kernelspec": {
   "display_name": "Python 3 (ipykernel)",
   "language": "python",
   "name": "python3"
  },
  "language_info": {
   "codemirror_mode": {
    "name": "ipython",
    "version": 3
   },
   "file_extension": ".py",
   "mimetype": "text/x-python",
   "name": "python",
   "nbconvert_exporter": "python",
   "pygments_lexer": "ipython3",
   "version": "3.10.12"
  }
 },
 "nbformat": 4,
 "nbformat_minor": 5
}
