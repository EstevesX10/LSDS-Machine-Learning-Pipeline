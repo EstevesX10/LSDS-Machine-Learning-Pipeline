{
 "cells": [
  {
   "cell_type": "markdown",
   "id": "8296de49-378a-4133-8d58-2371065a1111",
   "metadata": {},
   "source": [
    "---\n",
    "<div align=\"center\">\n",
    "\n",
    "# LSDS | Machine Learning Pipeline\n",
    "</div>\n",
    "\n",
    "---\n",
    "## Project Overview\n",
    "---\n",
    "\n",
    "### Background Overview\n",
    "In critical care, accurately predicting the length of a patient’s stay in the ICU is essential for optimizing resource allocation and improving patient outcomes. The challenge stems from the complex interplay of diverse clinical factors — ranging from vital signs and laboratory results to administered treatments — which requires a concerted effort between clinical expertise and advanced data analytics to develop a robust solution.\n",
    "\n",
    "---\n",
    "\n",
    "### Available Data\n",
    "The [MIMIC-III](https://physionet.org/content/mimiciii/1.4/) dataset, curated by the Massachusetts Institute of Technology, is one of the most comprehensive open-access databases for critical care research. It offers a wealth of de-identified data, including patient demographics, vital signs, lab results, and treatment details, which are invaluable for developing machine learning models.\n",
    "\n",
    "---\n",
    "\n",
    "### Approach / Methodology\n",
    "We will begin by isolating the most relevant data from the MIMIC dataset using Google Cloud’s BigQuery service, which is well-suited to handle such high-volume datasets efficiently. Through extensive Exploratory Data Analysis (EDA), we aim to identify the critical features and patterns that influence patient outcomes. This initial phase will guide the selection of pertinent variables, setting the foundation for a robust predictive model.\n",
    "\n",
    "---\n",
    "\n",
    "### Machine Learning Pipeline\n",
    "The final stage involves constructing a comprehensive machine learning pipeline. This pipeline will cover all steps from data preprocessing and feature engineering to model training and validation. By integrating profiling throughout our workflow, we ensure that performance metrics—such as execution time and resource usage—are continually monitored, a crucial aspect given the volume of data we are working with. This approach will help us fine-tune our chosen machine learning algorithm, ultimately providing a dependable prediction model for ICU length of stay.\n",
    "\n",
    "---\n",
    "\n",
    "### Conclusions\n",
    "In conclusion, by leveraging BigQuery for efficient data extraction and performing a comprehensive exploratory analysis of the MIMIC dataset, we hope to develop a robust machine learning pipeline to predict ICU length of stay. This project aims to achieve more accurate and timely predictions, ultimately supporting improved resource allocation, enhanced clinical decision-making, and better patient outcomes in critical care settings.\n",
    "\n",
    "---\n",
    "\n",
    "### Additional Considerations\n",
    "Each step of the pipeline — from data extraction and preprocessing to model training and validation—has been carefully profiled to monitor execution time, resource usage, and potential bottlenecks. This systematic profiling not only ensures that our solution scales effectively with high volumes of data but also provides valuable insights for continuous optimization of the overall process.\n",
    "\n",
    "---\n",
    "## Project Dependencies\n",
    "---"
   ]
  },
  {
   "cell_type": "code",
   "execution_count": 1,
   "id": "d19a75ab-08c9-476e-86c8-3a4803337c4c",
   "metadata": {},
   "outputs": [],
   "source": [
    "%load_ext autoreload\n",
    "%autoreload 2"
   ]
  },
  {
   "cell_type": "code",
   "execution_count": 2,
   "id": "e4877b42-d64d-4eea-a850-d0dcebdb11c6",
   "metadata": {},
   "outputs": [],
   "source": [
    "# Remove Warnings\n",
    "import warnings\n",
    "warnings.filterwarnings('ignore')\n",
    "from time import (time)"
   ]
  },
  {
   "cell_type": "code",
   "execution_count": 75,
   "id": "2b3d002a-836d-4cd6-8338-2b6f21979e2a",
   "metadata": {},
   "outputs": [
    {
     "data": {
      "text/plain": [
       "<function pandas.io.gbq.read_gbq(query: 'str', project_id: 'str | None' = None, index_col: 'str | None' = None, col_order: 'list[str] | None' = None, reauth: 'bool' = False, auth_local_webserver: 'bool' = True, dialect: 'str | None' = None, location: 'str | None' = None, configuration: 'dict[str, Any] | None' = None, credentials: 'Credentials | None' = None, use_bqstorage_api: 'bool | None' = None, max_results: 'int | None' = None, progress_bar_type: 'str | None' = None) -> 'DataFrame'>"
      ]
     },
     "execution_count": 75,
     "metadata": {},
     "output_type": "execute_result"
    }
   ],
   "source": [
    "import pandas\n",
    "pandas.read_gbq"
   ]
  },
  {
   "cell_type": "code",
   "execution_count": 3,
   "id": "b5081967-6107-4a3c-bf4f-154fa5d4e6a7",
   "metadata": {},
   "outputs": [
    {
     "name": "stdout",
     "output_type": "stream",
     "text": [
      "Took 1.155e+01(s) to import all the modules!\n"
     ]
    }
   ],
   "source": [
    "# Get the starting time before importing the modules\n",
    "startTime = time()\n",
    "\n",
    "# Import modules\n",
    "import numpy as np\n",
    "import pandas as pd\n",
    "from pyspark.ml.feature import StringIndexer, OneHotEncoder, VectorAssembler\n",
    "from pyspark.ml.regression import LinearRegression, RandomForestRegressor\n",
    "from pyspark.sql.types import ArrayType, StringType, BooleanType\n",
    "from pyspark.ml.evaluation import RegressionEvaluator\n",
    "from pyspark.sql import functions as F\n",
    "from pyspark.sql.window import Window\n",
    "from pyspark.sql import SparkSession\n",
    "from pyspark.ml import Pipeline\n",
    "from google.cloud import storage\n",
    "from google.cloud import bigquery\n",
    "from pprint import pprint\n",
    "\n",
    "# Custom Imports\n",
    "from Utils import (loadConfig, loadPathsConfig)\n",
    "from DataPreprocessing.DatasetManager import (DatasetManager)\n",
    "from DataPreprocessing.DaskDataFrame import (DaskDataframe)\n",
    "from DataPreprocessing.DatasetAnalyser import (DatasetAnalyser)\n",
    "\n",
    "# Print the amount of time it took to import everything\n",
    "print(f\"Took{(time() - startTime) : .3e}(s) to import all the modules!\")"
   ]
  },
  {
   "cell_type": "code",
   "execution_count": 4,
   "id": "94f4bae6-2079-4c89-8623-63d036f13693",
   "metadata": {},
   "outputs": [],
   "source": [
    "# Load the configs\n",
    "config = loadConfig()\n",
    "pathsConfig = loadPathsConfig()"
   ]
  },
  {
   "cell_type": "code",
   "execution_count": 5,
   "id": "0203186d-d16c-4440-b710-a7203cf82c6f",
   "metadata": {},
   "outputs": [
    {
     "name": "stdout",
     "output_type": "stream",
     "text": [
      "{'seed': 14, 'targetFeature': 'LOS'}\n",
      "{'Datasets': {'ADMISSIONS': './Datasets/ADMISSIONS.csv',\n",
      "              'CHARTEVENTS': './Datasets/CHARTEVENTS.csv',\n",
      "              'DIAGNOSES_ICD': './Datasets/DIAGNOSES_ICD.csv',\n",
      "              'ICUSTAYS': './Datasets/ICUSTAYS.csv',\n",
      "              'PATIENTS': './Datasets/PATIENTS.csv'}}\n"
     ]
    }
   ],
   "source": [
    "# Print the configs\n",
    "pprint(config)\n",
    "pprint(pathsConfig)"
   ]
  },
  {
   "cell_type": "code",
   "execution_count": 6,
   "id": "b16ec91e-ff40-427d-a81d-c5b48373468e",
   "metadata": {},
   "outputs": [],
   "source": [
    "# Define the path to the environment key\n",
    "key = './ml-pipeline-key.json'"
   ]
  },
  {
   "cell_type": "markdown",
   "id": "7968beb1-623e-4d5b-97c3-e4412458387d",
   "metadata": {},
   "source": [
    "---\n",
    "<div align=\"center\">\n",
    "\n",
    "## Exploratory Data Analysis\n",
    "</div>\n",
    "\n",
    "---\n",
    "\n",
    "Given the MIMIC dataset, we aim to obtain greater insights on how the data is organized within the multiple tables and gain a better understanding on how we can harness the data to properly train a Machine Learning Model to help us correctly predict the Length of Stay (LOS) of a given patient that entered the Intensive Care Unit (ICU).\n",
    "\n",
    "---\n",
    "### MIMIC-III Dataset\n",
    "---\n",
    "\n",
    "The [MIMIC-III](https://physionet.org/content/mimiciii/1.4/) Dataset contains multiple tables from which we are going to select the ones that provide a greater value to our project and further analyse them to better gain a better understanding of the available data. Furthermore, its important to notice that we have uploaded the tables from the dataset onto the google cloud BigQuery Service to help us properly manage these high volumes of data.\n",
    "\n",
    "Since our project focuses on predicting ICU length of stay, MIMIC provides a robust platform to explore complex clinical patterns and build predictive models that can help optimize patient care and resource allocation.\n",
    "\n",
    "> MENTION ALL THE TABLES ON THE DATASET AND WHY WE CHOSE THESE OVER THE OTHERS.\n",
    "\n",
    "Consequently, we ended up selecting the following tables:\n",
    "\n",
    "- ADMISSIONS\n",
    "- DIAGNOSES_ICD\n",
    "- ICUSTAYS\n",
    "- PATIENTS\n",
    "\n",
    "For more details regarding the tables within the dataset, feel free to inspect them [here](https://mimic.mit.edu/docs/iii/tables/chartevents/)."
   ]
  },
  {
   "cell_type": "code",
   "execution_count": 7,
   "id": "989b50f9-4b75-40b4-941b-f3106e7e9dda",
   "metadata": {},
   "outputs": [],
   "source": [
    "# Create a Client to query the data\n",
    "client = bigquery.Client.from_service_account_json(key)"
   ]
  },
  {
   "cell_type": "code",
   "execution_count": 8,
   "id": "03ee38dc-d70d-4fec-aa13-4facb5051521",
   "metadata": {},
   "outputs": [],
   "source": [
    "# Currently just an idea\n",
    "class QueryPerformer:\n",
    "    def __init__(self, client):\n",
    "        self.client = client\n",
    "\n",
    "    def query(self, queryStatement):\n",
    "        queryJob = self.client.query(queryStatement)\n",
    "        df = queryJob.to_dataframe()"
   ]
  },
  {
   "cell_type": "markdown",
   "id": "16d24462-362f-4206-a82d-9c3925ae9fae",
   "metadata": {},
   "source": [
    "---\n",
    "#### CHARTEVENTS Table\n",
    "---\n",
    "> CHARTEVENTS contains all the charted data available for a patient. During their ICU stay, the primary repository of a patient’s information is their electronic chart. The electronic chart displays patients' routine vital signs and any additional information relevant to their care: ventilator settings, laboratory values, code status, mental status, and so on. As a result, the bulk of information about a patient’s stay is contained in CHARTEVENTS. Furthermore, even though laboratory values are captured elsewhere (LABEVENTS), they are frequently repeated within CHARTEVENTS. This occurs because it is desirable to display the laboratory values on the patient’s electronic chart, and so the values are copied from the database storing laboratory values to the database storing the CHARTEVENTS.\n",
    "\n",
    "For the Chart Events Table we selected the following columns:\n",
    "\n",
    "| | CHARTEVENTS   | Description                                                                                                      |\n",
    "|-|:-------------:|:----------------------------------------------------------------------------------------------------------------:|\n",
    "| | ROW_ID        | Unique row identifier for each record in the table                                                               |\n",
    "| | SUBJECT_ID    | Unique identifier for each patient                                                                               |\n",
    "| | HADM_ID       | Unique identifier for each hospital admission                                                                    |\n",
    "| | ICUSTAY_ID    | Unique identifier for each ICU stay                                                                              |\n",
    "|X| ITEMID        | Identifier for a single measurement type (e.g., heart rate) corresponding to a specific recorded measurement     |\n",
    "| | CHARTTIME     | Timestamp when the observation was made, serving as a proxy for the actual measurement time.                     |\n",
    "| | STORETIME     | Timestamp when the observation was manually input or validated by clinical staff                                 |\n",
    "| | CGID          | Identifier for the caregiver who validated the measurement                                                       |\n",
    "|X| VALUE         | Recorded value of the measurement; may be textual or numeric, with numeric data also stored in VALUENUM          |\n",
    "|X| VALUENUM      | Numeric representation of the measurement value when applicable, otherwise null                                  |\n",
    "| | VALUEUOM      | Unit of measurement for the recorded value, if appropriate                                                       |\n",
    "|X| WARNING       | Metavision-specific flag indicating if a warning was raised during measurement                                   |\n",
    "| | ERROR         | Metavision-specific flag indicating if an error occurred during the measurement process                          |\n",
    "| | RESULTSTATUS  | CareVue-specific field indicating the type of measurement, such as 'Manual' or 'Automatic'                       |\n",
    "| | STOPPED       | CareVue-specific field indicating whether the measurement was stopped                                            |"
   ]
  },
  {
   "cell_type": "code",
   "execution_count": 73,
   "id": "09d5d86f-6edb-473c-921e-2ecf614b2572",
   "metadata": {},
   "outputs": [],
   "source": [
    "# # Define your query\n",
    "# chartEventsQuery = (\n",
    "#     \"\"\"\n",
    "#     SELECT \n",
    "#         ROW_ID,\n",
    "#         SUBJECT_ID,\n",
    "#         HADM_ID,\n",
    "#         ICUSTAY_ID,\n",
    "#         ITEMID,\n",
    "#         CHARTTIME,\n",
    "#         STORETIME,\n",
    "#         CGID,\n",
    "#         VALUENUM,\n",
    "#         VALUEUOM,\n",
    "#         WARNING,\n",
    "#         ERROR,\n",
    "#         RESULTSTATUS,\n",
    "#         STOPPED\n",
    "#     FROM `MIMIC.CHARTEVENTS`;\n",
    "#     \"\"\"\n",
    "# )\n",
    "\n",
    "# # Run the query\n",
    "# queryJob = client.query(chartEventsQuery)\n",
    "\n",
    "# # Wait for the job to complete and get the results\n",
    "# results = queryJob.result()\n",
    "\n",
    "# # Convert the results to a Pandas DataFrame\n",
    "# chartEvents = queryJob.to_dataframe()"
   ]
  },
  {
   "cell_type": "code",
   "execution_count": null,
   "id": "030346e3-bc10-485b-9536-9ded0a287155",
   "metadata": {},
   "outputs": [],
   "source": [
    "# Check the first 3 rows\n",
    "chartEvents.head(3)"
   ]
  },
  {
   "cell_type": "code",
   "execution_count": null,
   "id": "c325eefe-161f-4d6c-91c5-86bd51011bcc",
   "metadata": {},
   "outputs": [],
   "source": [
    "# Checking the dtypes of each feature\n",
    "chartEvents.dtypes"
   ]
  },
  {
   "cell_type": "code",
   "execution_count": null,
   "id": "4b9c630e-3d1f-41e6-9e9b-bc89dfb956b0",
   "metadata": {},
   "outputs": [],
   "source": [
    "# Create an diagnoses analyser\n",
    "chartEventsAnalyser = DatasetAnalyser(df=icuStays)"
   ]
  },
  {
   "cell_type": "code",
   "execution_count": null,
   "id": "1e92bdf5-810e-4007-8b91-4e89993044b1",
   "metadata": {},
   "outputs": [],
   "source": [
    "# Plot feature Distributions \n",
    "# (Note: There is no need to plot the Distribution of any ID feature)\n",
    "chartEventsAnalyser.plotFeatureDistributions(\n",
    "    features=[\n",
    "        ''\n",
    "    ]\n",
    ")"
   ]
  },
  {
   "cell_type": "markdown",
   "id": "77b1b513-7fef-4727-8acd-9f8b6b2c6750",
   "metadata": {},
   "source": [
    "---\n",
    "#### ADMISSIONS Table\n",
    "---\n",
    "> The ADMISSIONS table gives information regarding a patient’s admission to the hospital. Since each unique hospital visit for a patient is assigned a unique HADM_ID, the ADMISSIONS table can be considered as a definition table for HADM_ID. Information available includes timing information for admission and discharge, demographic information, the source of the admission, and so on.\n",
    "\n",
    "For the Admissions Table we selected the following columns:\n",
    "\n",
    "| | ADMISSIONS           | Description                                                                                       |\n",
    "|-|:--------------------:|:-------------------------------------------------------------------------------------------------:|\n",
    "|X| ADMISSION_TYPE       | Describes the nature of the admission (e.g., ELECTIVE, URGENT, NEWBORN, EMERGENCY)                |\n",
    "| | ADMITTIME            | Timestamp indicating when the patient was admitted to the hospital                                |\n",
    "| | DISCHTIME            | Timestamp indicating when the patient was discharged from the hospital                            |\n",
    "| | DEATHTIME            | Timestamp recording the time of in-hospital death, if applicable                                  |\n",
    "|X| INSURANCE            | Contains the insurance provider details for the patient                                           |\n",
    "| | LANGUAGE             | Indicates the language spoken by the patient                                                      |\n",
    "| | RELIGION             | Provides the patient's religious affiliation                                                      |\n",
    "|X| MARITAL_STATUS       | Describes the patient's marital status                                                            |\n",
    "|X| ETHNICITY            | Specifies the patient's ethnic background                                                         |\n",
    "| | HOSPITAL_EXPIRE_FLAG | Binary indicator (1 or 0) showing whether the patient died during the hospital stay               |"
   ]
  },
  {
   "cell_type": "code",
   "execution_count": 133,
   "id": "f0de3373-0ed8-4ed0-a94d-80a4d9fb1671",
   "metadata": {},
   "outputs": [],
   "source": [
    "# Define your query\n",
    "admissionsQuery = (\n",
    "    \"\"\"\n",
    "    SELECT \n",
    "        ADMISSION_TYPE,\n",
    "        ADMITTIME,\n",
    "        DISCHTIME,\n",
    "        DEATHTIME,\n",
    "        INSURANCE,\n",
    "        LANGUAGE,\n",
    "        RELIGION,\n",
    "        MARITAL_STATUS,\n",
    "        ETHNICITY,\n",
    "        HOSPITAL_EXPIRE_FLAG\n",
    "    FROM `MIMIC.ADMISSIONS`;\n",
    "    \"\"\"\n",
    ")\n",
    "\n",
    "# Run the query\n",
    "queryJob = client.query(admissionsQuery)\n",
    "\n",
    "# Wait for the job to complete and get the results\n",
    "results = queryJob.result()\n",
    "\n",
    "# Convert the results to a Pandas DataFrame\n",
    "admissions = queryJob.to_dataframe()"
   ]
  },
  {
   "cell_type": "code",
   "execution_count": 137,
   "id": "f64ddf99-de3a-489b-8e20-6a844083c7ff",
   "metadata": {},
   "outputs": [
    {
     "data": {
      "text/html": [
       "<div>\n",
       "<style scoped>\n",
       "    .dataframe tbody tr th:only-of-type {\n",
       "        vertical-align: middle;\n",
       "    }\n",
       "\n",
       "    .dataframe tbody tr th {\n",
       "        vertical-align: top;\n",
       "    }\n",
       "\n",
       "    .dataframe thead th {\n",
       "        text-align: right;\n",
       "    }\n",
       "</style>\n",
       "<table border=\"1\" class=\"dataframe\">\n",
       "  <thead>\n",
       "    <tr style=\"text-align: right;\">\n",
       "      <th></th>\n",
       "      <th>ADMISSION_TYPE</th>\n",
       "      <th>ADMITTIME</th>\n",
       "      <th>DISCHTIME</th>\n",
       "      <th>DEATHTIME</th>\n",
       "      <th>INSURANCE</th>\n",
       "      <th>LANGUAGE</th>\n",
       "      <th>RELIGION</th>\n",
       "      <th>MARITAL_STATUS</th>\n",
       "      <th>ETHNICITY</th>\n",
       "      <th>HOSPITAL_EXPIRE_FLAG</th>\n",
       "    </tr>\n",
       "  </thead>\n",
       "  <tbody>\n",
       "    <tr>\n",
       "      <th>0</th>\n",
       "      <td>EMERGENCY</td>\n",
       "      <td>2111-01-24 11:53:00+00:00</td>\n",
       "      <td>2111-01-25 22:40:00+00:00</td>\n",
       "      <td>2111-01-25 22:40:00+00:00</td>\n",
       "      <td>Private</td>\n",
       "      <td>None</td>\n",
       "      <td>UNOBTAINABLE</td>\n",
       "      <td>SINGLE</td>\n",
       "      <td>WHITE</td>\n",
       "      <td>1</td>\n",
       "    </tr>\n",
       "    <tr>\n",
       "      <th>1</th>\n",
       "      <td>EMERGENCY</td>\n",
       "      <td>2150-09-05 17:49:00+00:00</td>\n",
       "      <td>2150-09-12 18:30:00+00:00</td>\n",
       "      <td>2150-09-12 18:30:00+00:00</td>\n",
       "      <td>Medicare</td>\n",
       "      <td>ENGL</td>\n",
       "      <td>CATHOLIC</td>\n",
       "      <td>WIDOWED</td>\n",
       "      <td>ASIAN - JAPANESE</td>\n",
       "      <td>1</td>\n",
       "    </tr>\n",
       "    <tr>\n",
       "      <th>2</th>\n",
       "      <td>EMERGENCY</td>\n",
       "      <td>2190-09-18 22:39:00+00:00</td>\n",
       "      <td>2190-09-24 20:40:00+00:00</td>\n",
       "      <td>2190-09-24 20:40:00+00:00</td>\n",
       "      <td>Medicaid</td>\n",
       "      <td>None</td>\n",
       "      <td>CATHOLIC</td>\n",
       "      <td>MARRIED</td>\n",
       "      <td>WHITE</td>\n",
       "      <td>1</td>\n",
       "    </tr>\n",
       "  </tbody>\n",
       "</table>\n",
       "</div>"
      ],
      "text/plain": [
       "  ADMISSION_TYPE                 ADMITTIME                 DISCHTIME  \\\n",
       "0      EMERGENCY 2111-01-24 11:53:00+00:00 2111-01-25 22:40:00+00:00   \n",
       "1      EMERGENCY 2150-09-05 17:49:00+00:00 2150-09-12 18:30:00+00:00   \n",
       "2      EMERGENCY 2190-09-18 22:39:00+00:00 2190-09-24 20:40:00+00:00   \n",
       "\n",
       "                  DEATHTIME INSURANCE LANGUAGE      RELIGION MARITAL_STATUS  \\\n",
       "0 2111-01-25 22:40:00+00:00   Private     None  UNOBTAINABLE         SINGLE   \n",
       "1 2150-09-12 18:30:00+00:00  Medicare     ENGL      CATHOLIC        WIDOWED   \n",
       "2 2190-09-24 20:40:00+00:00  Medicaid     None      CATHOLIC        MARRIED   \n",
       "\n",
       "          ETHNICITY  HOSPITAL_EXPIRE_FLAG  \n",
       "0             WHITE                     1  \n",
       "1  ASIAN - JAPANESE                     1  \n",
       "2             WHITE                     1  "
      ]
     },
     "execution_count": 137,
     "metadata": {},
     "output_type": "execute_result"
    }
   ],
   "source": [
    "# Check the first 3 rows\n",
    "admissions.head(3)"
   ]
  },
  {
   "cell_type": "code",
   "execution_count": 102,
   "id": "81086f95-1166-4576-8dac-95359a2db5ae",
   "metadata": {},
   "outputs": [
    {
     "data": {
      "text/plain": [
       "ADMISSION_TYPE                       object\n",
       "ADMITTIME               datetime64[us, UTC]\n",
       "DISCHTIME               datetime64[us, UTC]\n",
       "DEATHTIME               datetime64[us, UTC]\n",
       "INSURANCE                            object\n",
       "LANGUAGE                             object\n",
       "RELIGION                             object\n",
       "MARITAL_STATUS                       object\n",
       "ETHNICITY                            object\n",
       "HOSPITAL_EXPIRE_FLAG                  Int64\n",
       "dtype: object"
      ]
     },
     "execution_count": 102,
     "metadata": {},
     "output_type": "execute_result"
    }
   ],
   "source": [
    "# Checking the dtypes of each feature\n",
    "admissions.dtypes"
   ]
  },
  {
   "cell_type": "code",
   "execution_count": 117,
   "id": "e0c5f192-fd6c-4562-8069-10e3621c008b",
   "metadata": {},
   "outputs": [],
   "source": [
    "# Create an admissions analyser\n",
    "admissionAnalyser = DatasetAnalyser(df=admissions)"
   ]
  },
  {
   "cell_type": "code",
   "execution_count": 122,
   "id": "28be17b1-b3ea-4ea1-8be0-40dc1f2f8954",
   "metadata": {},
   "outputs": [],
   "source": [
    "# Plot the distribution of Ethnicity\n",
    "# admissionAnalyser.plotFeatureDistribution(feature='ETHNICITY')"
   ]
  },
  {
   "cell_type": "code",
   "execution_count": 125,
   "id": "14b43b08-cf53-4790-8911-dbb06f0731bc",
   "metadata": {},
   "outputs": [],
   "source": [
    "# Plot the distribution of Language\n",
    "# admissionAnalyser.plotFeatureDistribution(feature='LANGUAGE') "
   ]
  },
  {
   "cell_type": "code",
   "execution_count": 180,
   "id": "4ce36e5a-748e-486b-aa44-bc211dae19b9",
   "metadata": {},
   "outputs": [
    {
     "data": {
      "image/png": "[encoded data removed]",
      "text/plain": [
       "<Figure size 1000x800 with 4 Axes>"
      ]
     },
     "metadata": {},
     "output_type": "display_data"
    }
   ],
   "source": [
    "# Plot feature Distributions\n",
    "# (Note: There is no need to plot the Distribution of any ID feature)\n",
    "admissionAnalyser.plotFeatureDistributions(\n",
    "    features=[\n",
    "        'ADMISSION_TYPE',\n",
    "        'INSURANCE',\n",
    "        'MARITAL_STATUS',\n",
    "        'RELIGION'\n",
    "    ]\n",
    ")"
   ]
  },
  {
   "cell_type": "markdown",
   "id": "0815ecdd-e561-48ca-acd8-50187d6db9c3",
   "metadata": {},
   "source": [
    "---\n",
    "#### DIAGNOSES_ICD Table\n",
    "---\n",
    "\n",
    "> The DIAGNOSES_ICS table contains ICD diagnoses for patients, most notably ICD-9 diagnoses.\n",
    "\n",
    "We have selected the following columns from this table:\n",
    "\n",
    "| | DIAGNOSES_ICD | Description                                                                                                                          |\n",
    "|-|:-------------:|:------------------------------------------------------------------------------------------------------------------------------------:|\n",
    "| | SUBJECT_ID    | Unique identifier for each patient                                                                                                   |\n",
    "| | HADM_ID       | Unique identifier for each hospital admission, defining a specific patient stay                                                      |\n",
    "|X| SEQ_NUM       | Indicates the order or priority of the ICD diagnoses for the patient, which can affect treatment reimbursement                       |\n",
    "|X| ICD9_CODE     | Contains the ICD-9 code corresponding to the diagnosis assigned to the patient during the hospital stay                              |"
   ]
  },
  {
   "cell_type": "code",
   "execution_count": 165,
   "id": "b5240772-376f-4f5f-bb46-ebe319ce725b",
   "metadata": {},
   "outputs": [],
   "source": [
    "# Define your query\n",
    "diagnosesICDQuery = (\n",
    "    \"\"\"\n",
    "    SELECT \n",
    "        SUBJECT_ID,\n",
    "        HADM_ID,\n",
    "        SEQ_NUM,\n",
    "        ICD9_CODE\n",
    "    FROM `MIMIC.DIAGNOSES_ICD`;\n",
    "    \"\"\"\n",
    ")\n",
    "\n",
    "# Run the query\n",
    "queryJob = client.query(diagnosesICDQuery)\n",
    "\n",
    "# Wait for the job to complete and get the results\n",
    "results = queryJob.result()\n",
    "\n",
    "# Convert the results to a Pandas DataFrame\n",
    "diagnoses = queryJob.to_dataframe()"
   ]
  },
  {
   "cell_type": "code",
   "execution_count": 166,
   "id": "937207b6-06b5-4b6a-a30f-b5655cc0d740",
   "metadata": {},
   "outputs": [
    {
     "data": {
      "text/html": [
       "<div>\n",
       "<style scoped>\n",
       "    .dataframe tbody tr th:only-of-type {\n",
       "        vertical-align: middle;\n",
       "    }\n",
       "\n",
       "    .dataframe tbody tr th {\n",
       "        vertical-align: top;\n",
       "    }\n",
       "\n",
       "    .dataframe thead th {\n",
       "        text-align: right;\n",
       "    }\n",
       "</style>\n",
       "<table border=\"1\" class=\"dataframe\">\n",
       "  <thead>\n",
       "    <tr style=\"text-align: right;\">\n",
       "      <th></th>\n",
       "      <th>SUBJECT_ID</th>\n",
       "      <th>HADM_ID</th>\n",
       "      <th>SEQ_NUM</th>\n",
       "      <th>ICD9_CODE</th>\n",
       "    </tr>\n",
       "  </thead>\n",
       "  <tbody>\n",
       "    <tr>\n",
       "      <th>0</th>\n",
       "      <td>109</td>\n",
       "      <td>172335</td>\n",
       "      <td>1</td>\n",
       "      <td>40301</td>\n",
       "    </tr>\n",
       "    <tr>\n",
       "      <th>1</th>\n",
       "      <td>109</td>\n",
       "      <td>172335</td>\n",
       "      <td>2</td>\n",
       "      <td>486</td>\n",
       "    </tr>\n",
       "    <tr>\n",
       "      <th>2</th>\n",
       "      <td>109</td>\n",
       "      <td>172335</td>\n",
       "      <td>3</td>\n",
       "      <td>58281</td>\n",
       "    </tr>\n",
       "  </tbody>\n",
       "</table>\n",
       "</div>"
      ],
      "text/plain": [
       "   SUBJECT_ID  HADM_ID  SEQ_NUM ICD9_CODE\n",
       "0         109   172335        1     40301\n",
       "1         109   172335        2       486\n",
       "2         109   172335        3     58281"
      ]
     },
     "execution_count": 166,
     "metadata": {},
     "output_type": "execute_result"
    }
   ],
   "source": [
    "# Check the first 3 rows\n",
    "diagnoses.head(3)"
   ]
  },
  {
   "cell_type": "code",
   "execution_count": 167,
   "id": "723f514f-b8d2-46f1-aae0-9924c4049445",
   "metadata": {},
   "outputs": [
    {
     "data": {
      "text/plain": [
       "SUBJECT_ID     Int64\n",
       "HADM_ID        Int64\n",
       "SEQ_NUM        Int64\n",
       "ICD9_CODE     object\n",
       "dtype: object"
      ]
     },
     "execution_count": 167,
     "metadata": {},
     "output_type": "execute_result"
    }
   ],
   "source": [
    "# Checking the dtypes of each feature\n",
    "diagnoses.dtypes"
   ]
  },
  {
   "cell_type": "code",
   "execution_count": 173,
   "id": "9fb56fda-9312-4c13-92d2-aa64918f2288",
   "metadata": {},
   "outputs": [
    {
     "name": "stdout",
     "output_type": "stream",
     "text": [
      "There are in total 6984 illnesses reported in the dataset!\n"
     ]
    }
   ],
   "source": [
    "# Checking the amount of different illnesses\n",
    "print(f\"There are in total {len(diagnoses['ICD9_CODE'].value_counts())} illnesses reported in the dataset!\")"
   ]
  },
  {
   "cell_type": "markdown",
   "id": "ea289a8b-1302-46ba-94fa-9e3062034d27",
   "metadata": {},
   "source": [
    "Since the dataset has a **tremendous amount of unique illnesses**, we have decided **not to plot its distribution**."
   ]
  },
  {
   "cell_type": "code",
   "execution_count": 168,
   "id": "98631f4b-f6bc-43ac-bec3-f13bc99b96d8",
   "metadata": {},
   "outputs": [],
   "source": [
    "# Create an diagnoses analyser\n",
    "diagnosesAnalyser = DatasetAnalyser(df=diagnoses)"
   ]
  },
  {
   "cell_type": "code",
   "execution_count": 181,
   "id": "e80fc224-4cdf-4806-93a7-e5345cda76c5",
   "metadata": {},
   "outputs": [
    {
     "data": {
      "image/png": "[encoded data removed]",
      "text/plain": [
       "<Figure size 1000x400 with 1 Axes>"
      ]
     },
     "metadata": {},
     "output_type": "display_data"
    }
   ],
   "source": [
    "# Plot feature Distributions\n",
    "# (Note: There is no need to plot the Distribution of any ID feature)\n",
    "diagnosesAnalyser.plotFeatureDistributions(\n",
    "    features=['SEQ_NUM']\n",
    ")"
   ]
  },
  {
   "cell_type": "markdown",
   "id": "ffc1b335-edd7-44d1-ae40-6f2c72fda989",
   "metadata": {},
   "source": [
    "---\n",
    "#### ICUSTAYS Table\n",
    "---\n",
    "\n",
    "> The ICUSTAYS defines each ICUSTAY_ID in the database, i.e. defines a single ICU stay.\n",
    "\n",
    "We have selected the following columns from this table:\n",
    "\n",
    "| | ICUSTAYS          | Description                                                                                                                             |\n",
    "|-|:-----------------:|:---------------------------------------------------------------------------------------------------------------------------------------:|\n",
    "| | SUBJECT_ID        | Unique identifier for each patient.                                                                                                     |\n",
    "| | HADM_ID           | Unique identifier for each hospital admission, defining a specific patient stay.                                                        |\n",
    "| | ICUSTAY_ID        | Unique identifier for each ICU stay, representing a single ICU encounter.                                                               |\n",
    "| | DBSOURCE          | Indicates the original ICU database source (e.g., 'carevue' for 2001–2008 or 'metavision' for 2008–2012), which affects data archiving. |\n",
    "|X| FIRST_CAREUNIT    | The first ICU type where the patient was cared for during the ICU stay.                                                                 |\n",
    "| | LAST_CAREUNIT     | The last ICU type where the patient was cared for, noting that transfers between ICU types can occur within a single stay.              |\n",
    "| | FIRST_WARDID      | Identifier for the first ICU unit (ward) where the patient was admitted, as recorded in the hospital database.                          |\n",
    "| | LAST_WARDID       | Identifier for the last ICU unit (ward) where the patient stayed during their ICU encounter.                                            |\n",
    "| | INTIME            | Timestamp indicating when the patient was transferred into the ICU.                                                                     |\n",
    "| | OUTTIME           | Timestamp indicating when the patient was transferred out of the ICU.                                                                   |\n",
    "|X| LOS               | Length of stay for the ICU encounter, measured in fractional days, which may encompass multiple ICU units.                              |"
   ]
  },
  {
   "cell_type": "code",
   "execution_count": 175,
   "id": "6accc37b-97a7-4ba0-a160-e07918f63f2b",
   "metadata": {},
   "outputs": [],
   "source": [
    "# Define your query\n",
    "staysICUQuery = (\n",
    "    \"\"\"\n",
    "    SELECT \n",
    "        SUBJECT_ID,\n",
    "        HADM_ID,\n",
    "        ICUSTAY_ID,\n",
    "        DBSOURCE,\n",
    "        FIRST_CAREUNIT,\n",
    "        LAST_CAREUNIT,\n",
    "        FIRST_WARDID,\n",
    "        LAST_WARDID,\n",
    "        INTIME,\n",
    "        OUTTIME,\n",
    "        LOS\n",
    "    FROM `MIMIC.ICUSTAYS`;\n",
    "    \"\"\"\n",
    ")\n",
    "\n",
    "# Run the query\n",
    "queryJob = client.query(staysICUQuery)\n",
    "\n",
    "# Wait for the job to complete and get the results\n",
    "results = queryJob.result()\n",
    "\n",
    "# Convert the results to a Pandas DataFrame\n",
    "icuStays = queryJob.to_dataframe()"
   ]
  },
  {
   "cell_type": "code",
   "execution_count": 176,
   "id": "f6ace234-f1ba-4a6d-b8d1-6b58a16bd7a1",
   "metadata": {},
   "outputs": [
    {
     "data": {
      "text/html": [
       "<div>\n",
       "<style scoped>\n",
       "    .dataframe tbody tr th:only-of-type {\n",
       "        vertical-align: middle;\n",
       "    }\n",
       "\n",
       "    .dataframe tbody tr th {\n",
       "        vertical-align: top;\n",
       "    }\n",
       "\n",
       "    .dataframe thead th {\n",
       "        text-align: right;\n",
       "    }\n",
       "</style>\n",
       "<table border=\"1\" class=\"dataframe\">\n",
       "  <thead>\n",
       "    <tr style=\"text-align: right;\">\n",
       "      <th></th>\n",
       "      <th>SUBJECT_ID</th>\n",
       "      <th>HADM_ID</th>\n",
       "      <th>ICUSTAY_ID</th>\n",
       "      <th>DBSOURCE</th>\n",
       "      <th>FIRST_CAREUNIT</th>\n",
       "      <th>LAST_CAREUNIT</th>\n",
       "      <th>FIRST_WARDID</th>\n",
       "      <th>LAST_WARDID</th>\n",
       "      <th>INTIME</th>\n",
       "      <th>OUTTIME</th>\n",
       "      <th>LOS</th>\n",
       "    </tr>\n",
       "  </thead>\n",
       "  <tbody>\n",
       "    <tr>\n",
       "      <th>0</th>\n",
       "      <td>275</td>\n",
       "      <td>129886</td>\n",
       "      <td>219649</td>\n",
       "      <td>carevue</td>\n",
       "      <td>CCU</td>\n",
       "      <td>CCU</td>\n",
       "      <td>7</td>\n",
       "      <td>7</td>\n",
       "      <td>2170-10-07 11:28:53+00:00</td>\n",
       "      <td>2170-10-14 14:38:07+00:00</td>\n",
       "      <td>7.1314</td>\n",
       "    </tr>\n",
       "    <tr>\n",
       "      <th>1</th>\n",
       "      <td>291</td>\n",
       "      <td>113649</td>\n",
       "      <td>256641</td>\n",
       "      <td>carevue</td>\n",
       "      <td>CCU</td>\n",
       "      <td>CCU</td>\n",
       "      <td>7</td>\n",
       "      <td>7</td>\n",
       "      <td>2102-04-08 23:05:28+00:00</td>\n",
       "      <td>2102-04-09 11:20:11+00:00</td>\n",
       "      <td>0.5102</td>\n",
       "    </tr>\n",
       "    <tr>\n",
       "      <th>2</th>\n",
       "      <td>291</td>\n",
       "      <td>125726</td>\n",
       "      <td>275109</td>\n",
       "      <td>metavision</td>\n",
       "      <td>CCU</td>\n",
       "      <td>CCU</td>\n",
       "      <td>7</td>\n",
       "      <td>7</td>\n",
       "      <td>2106-04-17 12:26:17+00:00</td>\n",
       "      <td>2106-04-18 22:05:39+00:00</td>\n",
       "      <td>1.4023</td>\n",
       "    </tr>\n",
       "  </tbody>\n",
       "</table>\n",
       "</div>"
      ],
      "text/plain": [
       "   SUBJECT_ID  HADM_ID  ICUSTAY_ID    DBSOURCE FIRST_CAREUNIT LAST_CAREUNIT  \\\n",
       "0         275   129886      219649     carevue            CCU           CCU   \n",
       "1         291   113649      256641     carevue            CCU           CCU   \n",
       "2         291   125726      275109  metavision            CCU           CCU   \n",
       "\n",
       "   FIRST_WARDID  LAST_WARDID                    INTIME  \\\n",
       "0             7            7 2170-10-07 11:28:53+00:00   \n",
       "1             7            7 2102-04-08 23:05:28+00:00   \n",
       "2             7            7 2106-04-17 12:26:17+00:00   \n",
       "\n",
       "                    OUTTIME     LOS  \n",
       "0 2170-10-14 14:38:07+00:00  7.1314  \n",
       "1 2102-04-09 11:20:11+00:00  0.5102  \n",
       "2 2106-04-18 22:05:39+00:00  1.4023  "
      ]
     },
     "execution_count": 176,
     "metadata": {},
     "output_type": "execute_result"
    }
   ],
   "source": [
    "# Check the first 3 rows\n",
    "icuStays.head(3)"
   ]
  },
  {
   "cell_type": "code",
   "execution_count": 177,
   "id": "6e5e0259-f740-4c86-9253-3147a0813ef1",
   "metadata": {},
   "outputs": [
    {
     "data": {
      "text/plain": [
       "SUBJECT_ID                      Int64\n",
       "HADM_ID                         Int64\n",
       "ICUSTAY_ID                      Int64\n",
       "DBSOURCE                       object\n",
       "FIRST_CAREUNIT                 object\n",
       "LAST_CAREUNIT                  object\n",
       "FIRST_WARDID                    Int64\n",
       "LAST_WARDID                     Int64\n",
       "INTIME            datetime64[us, UTC]\n",
       "OUTTIME           datetime64[us, UTC]\n",
       "LOS                           float64\n",
       "dtype: object"
      ]
     },
     "execution_count": 177,
     "metadata": {},
     "output_type": "execute_result"
    }
   ],
   "source": [
    "# Checking the dtypes of each feature\n",
    "icuStays.dtypes"
   ]
  },
  {
   "cell_type": "code",
   "execution_count": 178,
   "id": "743df022-3e17-4b7d-b81a-7235ab91cfb6",
   "metadata": {},
   "outputs": [],
   "source": [
    "# Create an diagnoses analyser\n",
    "icuStaysAnalyser = DatasetAnalyser(df=icuStays)"
   ]
  },
  {
   "cell_type": "code",
   "execution_count": 182,
   "id": "aa8a8347-06ba-4e11-8846-85ed5a31320f",
   "metadata": {},
   "outputs": [
    {
     "data": {
      "image/png": "[encoded data removed]",
      "text/plain": [
       "<Figure size 1000x800 with 4 Axes>"
      ]
     },
     "metadata": {},
     "output_type": "display_data"
    }
   ],
   "source": [
    "# Plot feature Distributions \n",
    "# (Note: There is no need to plot the Distribution of any ID feature)\n",
    "icuStaysAnalyser.plotFeatureDistributions(\n",
    "    features=[\n",
    "        'DBSOURCE',\n",
    "        'FIRST_CAREUNIT',\n",
    "        'LAST_CAREUNIT',\n",
    "        'LOS'\n",
    "    ]\n",
    ")"
   ]
  },
  {
   "cell_type": "markdown",
   "id": "cf29d9f9-55f2-4f7f-8e98-0ffb47f9e793",
   "metadata": {},
   "source": [
    "---\n",
    "#### PATIENTS Table\n",
    "---\n",
    "\n",
    "> The PATIENTS table defines each SUBJECT_ID in the database, i.e. defines a single patient.\n",
    "\n",
    "For this table we have selected the upcoming columns:\n",
    "\n",
    "| | PATIENTS     | Description                                                                                                                                          |\n",
    "|-|:------------:|:----------------------------------------------------------------------------------------------------------------------------------------------------:|\n",
    "| | SUBJECT_ID   | Unique identifier for each patient, used to link patient data across tables.                                                                         |\n",
    "|X| GENDER       | The genotypical sex of the patient.                                                                                                                  |\n",
    "|X| DOB          | Date of birth of the patient. For patients older than 89, DOB is shifted (set to 300 years before the first admission) for HIPAA compliance.         |\n",
    "| | DOD          | Date of death for the patient, merging information from hospital (DOD_HOSP) and social security (DOD_SSN) records, with DOD_HOSP taking priority.    |\n",
    "| | DOD_HOSP     | Date of death as recorded in the hospital database.                                                                                                  |\n",
    "| | DOD_SSN      | Date of death from the social security database.                                                                                                     |\n",
    "| | EXPIRE_FLAG  | Binary flag indicating whether the patient died (i.e., whether DOD is not null).                                                                     |"
   ]
  },
  {
   "cell_type": "code",
   "execution_count": 183,
   "id": "4748d18a-7e8e-4faf-8dec-fccf41c12cc1",
   "metadata": {},
   "outputs": [],
   "source": [
    "# Define your query\n",
    "patientsQuery = (\n",
    "    \"\"\"\n",
    "    SELECT \n",
    "        SUBJECT_ID,\n",
    "        GENDER,\n",
    "        DOB,\n",
    "        DOD,\n",
    "        DOD_HOSP,\n",
    "        DOD_SSN,\n",
    "        EXPIRE_FLAG\n",
    "    FROM `MIMIC.PATIENTS`;\n",
    "    \"\"\"\n",
    ")\n",
    "\n",
    "# Run the query\n",
    "queryJob = client.query(patientsQuery)\n",
    "\n",
    "# Wait for the job to complete and get the results\n",
    "results = queryJob.result()\n",
    "\n",
    "# Convert the results to a Pandas DataFrame\n",
    "patients = queryJob.to_dataframe()"
   ]
  },
  {
   "cell_type": "code",
   "execution_count": 184,
   "id": "09fe1f19-ae47-4835-9974-6faaa90c06f0",
   "metadata": {},
   "outputs": [
    {
     "data": {
      "text/html": [
       "<div>\n",
       "<style scoped>\n",
       "    .dataframe tbody tr th:only-of-type {\n",
       "        vertical-align: middle;\n",
       "    }\n",
       "\n",
       "    .dataframe tbody tr th {\n",
       "        vertical-align: top;\n",
       "    }\n",
       "\n",
       "    .dataframe thead th {\n",
       "        text-align: right;\n",
       "    }\n",
       "</style>\n",
       "<table border=\"1\" class=\"dataframe\">\n",
       "  <thead>\n",
       "    <tr style=\"text-align: right;\">\n",
       "      <th></th>\n",
       "      <th>SUBJECT_ID</th>\n",
       "      <th>GENDER</th>\n",
       "      <th>DOB</th>\n",
       "      <th>DOD</th>\n",
       "      <th>DOD_HOSP</th>\n",
       "      <th>DOD_SSN</th>\n",
       "      <th>EXPIRE_FLAG</th>\n",
       "    </tr>\n",
       "  </thead>\n",
       "  <tbody>\n",
       "    <tr>\n",
       "      <th>0</th>\n",
       "      <td>249</td>\n",
       "      <td>F</td>\n",
       "      <td>2075-03-13 00:00:00+00:00</td>\n",
       "      <td>NaT</td>\n",
       "      <td>NaT</td>\n",
       "      <td>NaT</td>\n",
       "      <td>0</td>\n",
       "    </tr>\n",
       "    <tr>\n",
       "      <th>1</th>\n",
       "      <td>253</td>\n",
       "      <td>F</td>\n",
       "      <td>2089-11-26 00:00:00+00:00</td>\n",
       "      <td>NaT</td>\n",
       "      <td>NaT</td>\n",
       "      <td>NaT</td>\n",
       "      <td>0</td>\n",
       "    </tr>\n",
       "    <tr>\n",
       "      <th>2</th>\n",
       "      <td>258</td>\n",
       "      <td>F</td>\n",
       "      <td>2124-09-19 00:00:00+00:00</td>\n",
       "      <td>NaT</td>\n",
       "      <td>NaT</td>\n",
       "      <td>NaT</td>\n",
       "      <td>0</td>\n",
       "    </tr>\n",
       "  </tbody>\n",
       "</table>\n",
       "</div>"
      ],
      "text/plain": [
       "   SUBJECT_ID GENDER                       DOB DOD DOD_HOSP DOD_SSN  \\\n",
       "0         249      F 2075-03-13 00:00:00+00:00 NaT      NaT     NaT   \n",
       "1         253      F 2089-11-26 00:00:00+00:00 NaT      NaT     NaT   \n",
       "2         258      F 2124-09-19 00:00:00+00:00 NaT      NaT     NaT   \n",
       "\n",
       "   EXPIRE_FLAG  \n",
       "0            0  \n",
       "1            0  \n",
       "2            0  "
      ]
     },
     "execution_count": 184,
     "metadata": {},
     "output_type": "execute_result"
    }
   ],
   "source": [
    "# Check the first 3 rows\n",
    "patients.head(3)"
   ]
  },
  {
   "cell_type": "code",
   "execution_count": 185,
   "id": "2c132dc2-70f4-4018-9575-5905b9a75661",
   "metadata": {},
   "outputs": [
    {
     "data": {
      "text/plain": [
       "SUBJECT_ID                   Int64\n",
       "GENDER                      object\n",
       "DOB            datetime64[us, UTC]\n",
       "DOD            datetime64[us, UTC]\n",
       "DOD_HOSP       datetime64[us, UTC]\n",
       "DOD_SSN        datetime64[us, UTC]\n",
       "EXPIRE_FLAG                  Int64\n",
       "dtype: object"
      ]
     },
     "execution_count": 185,
     "metadata": {},
     "output_type": "execute_result"
    }
   ],
   "source": [
    "# Checking the dtypes of each feature\n",
    "patients.dtypes"
   ]
  },
  {
   "cell_type": "code",
   "execution_count": 186,
   "id": "81cc4329-b8c6-497c-b99a-a21ce01850cd",
   "metadata": {},
   "outputs": [],
   "source": [
    "# Create an patients analyser\n",
    "patientsAnalyser = DatasetAnalyser(df=patients)"
   ]
  },
  {
   "cell_type": "code",
   "execution_count": 189,
   "id": "e768d3e4-98ca-4e9a-8441-f710317352d9",
   "metadata": {},
   "outputs": [
    {
     "data": {
      "image/png": "[encoded data removed]",
      "text/plain": [
       "<Figure size 1000x400 with 2 Axes>"
      ]
     },
     "metadata": {},
     "output_type": "display_data"
    }
   ],
   "source": [
    "# Plot feature Distributions \n",
    "# (Note: There is no need to plot the Distribution of any ID feature)\n",
    "patientsAnalyser.plotFeatureDistributions(\n",
    "    features=[\n",
    "        'GENDER',\n",
    "        'EXPIRE_FLAG'\n",
    "    ],\n",
    "    forceCategorical=True\n",
    ")"
   ]
  },
  {
   "cell_type": "markdown",
   "id": "ea9d2e65-139a-47d2-b71f-bfe58fed4769",
   "metadata": {},
   "source": [
    "---\n",
    "<div align=\"center\">\n",
    "\n",
    "## Additional Analysis\n",
    "</div>\n",
    "\n",
    "---\n",
    "\n",
    "We barely scrapped the surface with the previous analysis, so let's try to achieve greater insights with the data! By leveraging the data from the available tables, let's try to derive new information from them."
   ]
  },
  {
   "cell_type": "markdown",
   "id": "e441a140-7c18-41ef-8f2c-634ea587128c",
   "metadata": {},
   "source": [
    "---\n",
    "### The most Common Ilnesses\n",
    "---"
   ]
  },
  {
   "cell_type": "code",
   "execution_count": 52,
   "id": "99f42d4f-0428-4469-a9ef-da2454cbc7c3",
   "metadata": {},
   "outputs": [],
   "source": [
    "# Define your query\n",
    "mostCommonIllnessesQuery = (\n",
    "    \"\"\"\n",
    "    SELECT \n",
    "        descriptionDiagnoses.SHORT_TITLE AS ILLNESS,\n",
    "        COUNT(*) AS TOTAL_CASES\n",
    "    FROM `MIMIC.DIAGNOSES_ICD` AS diagnoses\n",
    "        JOIN `MIMIC.D_ICD_DIAGNOSES` AS descriptionDiagnoses\n",
    "            ON diagnoses.ICD9_CODE = descriptionDiagnoses.ICD9_CODE\n",
    "    GROUP BY descriptionDiagnoses.SHORT_TITLE\n",
    "    ORDER BY TOTAL_CASES DESC;\n",
    "    \"\"\"\n",
    ")\n",
    "\n",
    "# Run the query\n",
    "queryJob = client.query(mostCommonIllnessesQuery)\n",
    "\n",
    "# Wait for the job to complete and get the results\n",
    "results = queryJob.result()\n",
    "\n",
    "# Convert the results to a Pandas DataFrame\n",
    "mostCommonIllnesses = queryJob.to_dataframe()"
   ]
  },
  {
   "cell_type": "code",
   "execution_count": 53,
   "id": "6eec4a87-349f-4961-9172-4af0a51de0d8",
   "metadata": {},
   "outputs": [
    {
     "data": {
      "text/html": [
       "<div>\n",
       "<style scoped>\n",
       "    .dataframe tbody tr th:only-of-type {\n",
       "        vertical-align: middle;\n",
       "    }\n",
       "\n",
       "    .dataframe tbody tr th {\n",
       "        vertical-align: top;\n",
       "    }\n",
       "\n",
       "    .dataframe thead th {\n",
       "        text-align: right;\n",
       "    }\n",
       "</style>\n",
       "<table border=\"1\" class=\"dataframe\">\n",
       "  <thead>\n",
       "    <tr style=\"text-align: right;\">\n",
       "      <th></th>\n",
       "      <th>ILLNESS</th>\n",
       "      <th>TOTAL_CASES</th>\n",
       "    </tr>\n",
       "  </thead>\n",
       "  <tbody>\n",
       "    <tr>\n",
       "      <th>0</th>\n",
       "      <td>Hypertension NOS</td>\n",
       "      <td>20703</td>\n",
       "    </tr>\n",
       "    <tr>\n",
       "      <th>1</th>\n",
       "      <td>CHF NOS</td>\n",
       "      <td>13111</td>\n",
       "    </tr>\n",
       "    <tr>\n",
       "      <th>2</th>\n",
       "      <td>Atrial fibrillation</td>\n",
       "      <td>12891</td>\n",
       "    </tr>\n",
       "    <tr>\n",
       "      <th>3</th>\n",
       "      <td>Crnry athrscl natve vssl</td>\n",
       "      <td>12429</td>\n",
       "    </tr>\n",
       "    <tr>\n",
       "      <th>4</th>\n",
       "      <td>Acute kidney failure NOS</td>\n",
       "      <td>9119</td>\n",
       "    </tr>\n",
       "  </tbody>\n",
       "</table>\n",
       "</div>"
      ],
      "text/plain": [
       "                    ILLNESS  TOTAL_CASES\n",
       "0          Hypertension NOS        20703\n",
       "1                   CHF NOS        13111\n",
       "2       Atrial fibrillation        12891\n",
       "3  Crnry athrscl natve vssl        12429\n",
       "4  Acute kidney failure NOS         9119"
      ]
     },
     "execution_count": 53,
     "metadata": {},
     "output_type": "execute_result"
    }
   ],
   "source": [
    "# Showcase the most common illnesses on the ICU\n",
    "mostCommonIllnesses.head()"
   ]
  },
  {
   "cell_type": "markdown",
   "id": "1f8c3461-c652-463b-bfda-f5200f345bbf",
   "metadata": {},
   "source": [
    "---\n",
    "### Deseases with a Higher Length of Stay\n",
    "---\n",
    "\n",
    "As any Hospital is interested on their patients, it can be quite fulcral to have a deep understanding of the deseases that most likely lead to a higher length of stay in Intensive Unit Care in order to raise a higher awareness to all the medical professionals towards the extra need of medical supplies, technicians and equipment to better maitain and serve the Hospital when someone enters the ICU with such deseases."
   ]
  },
  {
   "cell_type": "code",
   "execution_count": 47,
   "id": "e4943ff6-0449-4f72-b050-8385b948496f",
   "metadata": {},
   "outputs": [],
   "source": [
    "# Define your query\n",
    "illnessLOSQuery = (\n",
    "    \"\"\"\n",
    "    WITH ILLNESS_LOS AS (\n",
    "        SELECT \n",
    "            diagnoses.ICD9_CODE,\n",
    "            AVG(icuStays.LOS) AS AVG_LOS\n",
    "        FROM `MIMIC.DIAGNOSES_ICD` AS diagnoses\n",
    "        JOIN `MIMIC.ICUSTAYS` AS icuStays\n",
    "              ON diagnoses.SUBJECT_ID = icuStays.SUBJECT_ID \n",
    "             AND diagnoses.HADM_ID = icuStays.HADM_ID\n",
    "        GROUP BY diagnoses.ICD9_CODE\n",
    "    )\n",
    "    SELECT\n",
    "        descriptionDiagnoses.SHORT_TITLE AS ILLNESS,\n",
    "        illnesses.AVG_LOS\n",
    "    FROM ILLNESS_LOS AS illnesses\n",
    "        JOIN `MIMIC.D_ICD_DIAGNOSES` AS descriptionDiagnoses\n",
    "          ON illnesses.ICD9_CODE = descriptionDiagnoses.ICD9_CODE\n",
    "    ORDER BY illnesses.AVG_LOS DESC;\n",
    "    \"\"\"\n",
    ")\n",
    "\n",
    "# Run the query\n",
    "queryJob = client.query(illnessLOSQuery)\n",
    "\n",
    "# Wait for the job to complete and get the results\n",
    "results = queryJob.result()\n",
    "\n",
    "# Convert the results to a Pandas DataFrame\n",
    "illnessLOS = queryJob.to_dataframe()"
   ]
  },
  {
   "cell_type": "code",
   "execution_count": 48,
   "id": "988c81c0-f3b9-4e86-9cef-d10fba2d77e3",
   "metadata": {},
   "outputs": [
    {
     "data": {
      "text/html": [
       "<div>\n",
       "<style scoped>\n",
       "    .dataframe tbody tr th:only-of-type {\n",
       "        vertical-align: middle;\n",
       "    }\n",
       "\n",
       "    .dataframe tbody tr th {\n",
       "        vertical-align: top;\n",
       "    }\n",
       "\n",
       "    .dataframe thead th {\n",
       "        text-align: right;\n",
       "    }\n",
       "</style>\n",
       "<table border=\"1\" class=\"dataframe\">\n",
       "  <thead>\n",
       "    <tr style=\"text-align: right;\">\n",
       "      <th></th>\n",
       "      <th>ILLNESS</th>\n",
       "      <th>AVG_LOS</th>\n",
       "    </tr>\n",
       "  </thead>\n",
       "  <tbody>\n",
       "    <tr>\n",
       "      <th>0</th>\n",
       "      <td>Septic myocarditis</td>\n",
       "      <td>153.928000</td>\n",
       "    </tr>\n",
       "    <tr>\n",
       "      <th>1</th>\n",
       "      <td>Instantaneous death</td>\n",
       "      <td>119.164200</td>\n",
       "    </tr>\n",
       "    <tr>\n",
       "      <th>2</th>\n",
       "      <td>Nasal mucositis (ulcer)</td>\n",
       "      <td>119.164200</td>\n",
       "    </tr>\n",
       "    <tr>\n",
       "      <th>3</th>\n",
       "      <td>NB hemorrhagic disease</td>\n",
       "      <td>98.354900</td>\n",
       "    </tr>\n",
       "    <tr>\n",
       "      <th>4</th>\n",
       "      <td>Fet growth ret 500-749g</td>\n",
       "      <td>96.550333</td>\n",
       "    </tr>\n",
       "  </tbody>\n",
       "</table>\n",
       "</div>"
      ],
      "text/plain": [
       "                   ILLNESS     AVG_LOS\n",
       "0       Septic myocarditis  153.928000\n",
       "1      Instantaneous death  119.164200\n",
       "2  Nasal mucositis (ulcer)  119.164200\n",
       "3   NB hemorrhagic disease   98.354900\n",
       "4  Fet growth ret 500-749g   96.550333"
      ]
     },
     "execution_count": 48,
     "metadata": {},
     "output_type": "execute_result"
    }
   ],
   "source": [
    "# Showcase the illnesses that, in average lead to a longer length of stay on the ICU\n",
    "illnessLOS.head()"
   ]
  },
  {
   "cell_type": "markdown",
   "id": "18409fe7-2eb6-40c8-8682-dcf78b13412f",
   "metadata": {},
   "source": [
    "---\n",
    "### The Deadliest Ilnesses\n",
    "---"
   ]
  },
  {
   "cell_type": "code",
   "execution_count": 50,
   "id": "fbaf7078-5180-41ea-a99e-0b92f6662cb5",
   "metadata": {},
   "outputs": [],
   "source": [
    "# Define your query\n",
    "deadliestIllnessesQuery = (\n",
    "    \"\"\"\n",
    "    SELECT \n",
    "        descriptionDiagnoses.SHORT_TITLE AS ILLNESS,\n",
    "        COUNT(*) AS TOTAL_DEATHS\n",
    "    FROM `MIMIC.DIAGNOSES_ICD` AS diagnoses\n",
    "        JOIN `MIMIC.PATIENTS` AS patients\n",
    "            ON diagnoses.SUBJECT_ID = patients.SUBJECT_ID\n",
    "        JOIN `MIMIC.D_ICD_DIAGNOSES` AS descriptionDiagnoses\n",
    "            ON diagnoses.ICD9_CODE = descriptionDiagnoses.ICD9_CODE\n",
    "    WHERE patients.EXPIRE_FLAG = 1\n",
    "    GROUP BY descriptionDiagnoses.SHORT_TITLE\n",
    "    ORDER BY TOTAL_DEATHS DESC;\n",
    "    \"\"\"\n",
    ")\n",
    "\n",
    "# Run the query\n",
    "queryJob = client.query(deadliestIllnessesQuery)\n",
    "\n",
    "# Wait for the job to complete and get the results\n",
    "results = queryJob.result()\n",
    "\n",
    "# Convert the results to a Pandas DataFrame\n",
    "deadliestIllnesses = queryJob.to_dataframe()"
   ]
  },
  {
   "cell_type": "code",
   "execution_count": 51,
   "id": "fc50f356-ac5c-4d77-aba9-ca98b29e3ae1",
   "metadata": {},
   "outputs": [
    {
     "data": {
      "text/html": [
       "<div>\n",
       "<style scoped>\n",
       "    .dataframe tbody tr th:only-of-type {\n",
       "        vertical-align: middle;\n",
       "    }\n",
       "\n",
       "    .dataframe tbody tr th {\n",
       "        vertical-align: top;\n",
       "    }\n",
       "\n",
       "    .dataframe thead th {\n",
       "        text-align: right;\n",
       "    }\n",
       "</style>\n",
       "<table border=\"1\" class=\"dataframe\">\n",
       "  <thead>\n",
       "    <tr style=\"text-align: right;\">\n",
       "      <th></th>\n",
       "      <th>ILLNESS</th>\n",
       "      <th>TOTAL_DEATHS</th>\n",
       "    </tr>\n",
       "  </thead>\n",
       "  <tbody>\n",
       "    <tr>\n",
       "      <th>0</th>\n",
       "      <td>Hypertension NOS</td>\n",
       "      <td>8333</td>\n",
       "    </tr>\n",
       "    <tr>\n",
       "      <th>1</th>\n",
       "      <td>CHF NOS</td>\n",
       "      <td>8020</td>\n",
       "    </tr>\n",
       "    <tr>\n",
       "      <th>2</th>\n",
       "      <td>Atrial fibrillation</td>\n",
       "      <td>7290</td>\n",
       "    </tr>\n",
       "    <tr>\n",
       "      <th>3</th>\n",
       "      <td>Acute kidney failure NOS</td>\n",
       "      <td>5432</td>\n",
       "    </tr>\n",
       "    <tr>\n",
       "      <th>4</th>\n",
       "      <td>Crnry athrscl natve vssl</td>\n",
       "      <td>5004</td>\n",
       "    </tr>\n",
       "  </tbody>\n",
       "</table>\n",
       "</div>"
      ],
      "text/plain": [
       "                    ILLNESS  TOTAL_DEATHS\n",
       "0          Hypertension NOS          8333\n",
       "1                   CHF NOS          8020\n",
       "2       Atrial fibrillation          7290\n",
       "3  Acute kidney failure NOS          5432\n",
       "4  Crnry athrscl natve vssl          5004"
      ]
     },
     "execution_count": 51,
     "metadata": {},
     "output_type": "execute_result"
    }
   ],
   "source": [
    "# Showcase the top 10 deadliest illnesses\n",
    "deadliestIllnesses.head()"
   ]
  },
  {
   "cell_type": "markdown",
   "id": "078945d2-df9d-43b9-a00a-33bbafde797d",
   "metadata": {},
   "source": [
    "---\n",
    "### Mortality Rates\n",
    "---\n",
    "> Explore how mortality rates differ among patient groups (e.g., by insurance type, age group, or specific ICU units).\n",
    "\n",
    "\n",
    "---\n",
    "#### Gender\n",
    "---"
   ]
  },
  {
   "cell_type": "code",
   "execution_count": 9,
   "id": "ba86a4c9-1724-4142-8338-5ba9ea9b07a0",
   "metadata": {},
   "outputs": [],
   "source": [
    "# Define your query\n",
    "genderMortalityRatesQuery = (\n",
    "    \"\"\"\n",
    "    WITH TOTAL_PATIENTS_GENDER AS (\n",
    "        SELECT \n",
    "            GENDER,\n",
    "            COUNT(*) AS TOTAL_PATIENTS\n",
    "        FROM `MIMIC.PATIENTS` AS patients\n",
    "        GROUP BY patients.GENDER\n",
    "    )\n",
    "    SELECT \n",
    "        patients.GENDER,\n",
    "        COUNT(*) AS TOTAL_DEATHS,\n",
    "        t.TOTAL_PATIENTS,\n",
    "        COUNT(*) / t.TOTAL_PATIENTS AS MORTALITY_RATIO\n",
    "    FROM `MIMIC.PATIENTS` AS patients\n",
    "        JOIN TOTAL_PATIENTS_GENDER AS t \n",
    "            ON (patients.GENDER = t.GENDER)\n",
    "    WHERE EXPIRE_FLAG = 1\n",
    "    GROUP BY GENDER, TOTAL_PATIENTS\n",
    "    ORDER BY MORTALITY_RATIO DESC;\n",
    "    \"\"\"\n",
    ")\n",
    "\n",
    "# Run the query\n",
    "queryJob = client.query(genderMortalityRatesQuery)\n",
    "\n",
    "# Wait for the job to complete and get the results\n",
    "results = queryJob.result()\n",
    "\n",
    "# Convert the results to a Pandas DataFrame\n",
    "genderMortalityRates = queryJob.to_dataframe()"
   ]
  },
  {
   "cell_type": "code",
   "execution_count": 10,
   "id": "6e9edffe-ea8a-4cad-9dd0-dd644749957e",
   "metadata": {},
   "outputs": [
    {
     "data": {
      "text/html": [
       "<div>\n",
       "<style scoped>\n",
       "    .dataframe tbody tr th:only-of-type {\n",
       "        vertical-align: middle;\n",
       "    }\n",
       "\n",
       "    .dataframe tbody tr th {\n",
       "        vertical-align: top;\n",
       "    }\n",
       "\n",
       "    .dataframe thead th {\n",
       "        text-align: right;\n",
       "    }\n",
       "</style>\n",
       "<table border=\"1\" class=\"dataframe\">\n",
       "  <thead>\n",
       "    <tr style=\"text-align: right;\">\n",
       "      <th></th>\n",
       "      <th>GENDER</th>\n",
       "      <th>TOTAL_DEATHS</th>\n",
       "      <th>TOTAL_PATIENTS</th>\n",
       "      <th>MORTALITY_RATIO</th>\n",
       "    </tr>\n",
       "  </thead>\n",
       "  <tbody>\n",
       "    <tr>\n",
       "      <th>0</th>\n",
       "      <td>F</td>\n",
       "      <td>7235</td>\n",
       "      <td>20399</td>\n",
       "      <td>0.354674</td>\n",
       "    </tr>\n",
       "    <tr>\n",
       "      <th>1</th>\n",
       "      <td>M</td>\n",
       "      <td>8524</td>\n",
       "      <td>26121</td>\n",
       "      <td>0.326327</td>\n",
       "    </tr>\n",
       "  </tbody>\n",
       "</table>\n",
       "</div>"
      ],
      "text/plain": [
       "  GENDER  TOTAL_DEATHS  TOTAL_PATIENTS  MORTALITY_RATIO\n",
       "0      F          7235           20399         0.354674\n",
       "1      M          8524           26121         0.326327"
      ]
     },
     "execution_count": 10,
     "metadata": {},
     "output_type": "execute_result"
    }
   ],
   "source": [
    "# Showcase the mortality ratio between male and female patients\n",
    "genderMortalityRates.head()"
   ]
  },
  {
   "cell_type": "markdown",
   "id": "40569954-b20a-4e08-955f-2bff797f2d1f",
   "metadata": {},
   "source": [
    "---\n",
    "#### Ethnicity\n",
    "---"
   ]
  },
  {
   "cell_type": "code",
   "execution_count": 64,
   "id": "5d845962-4f48-4d65-8620-924e375d843c",
   "metadata": {},
   "outputs": [],
   "source": [
    "# Define your query\n",
    "ethnicityMortalityRatesQuery = (\n",
    "    \"\"\"\n",
    "    WITH ETHNICITIES_TABLE AS (\n",
    "        SELECT\n",
    "          SUBJECT_ID,\n",
    "          CASE \n",
    "            WHEN UPPER(ETHNICITY) LIKE '%WHITE%' \n",
    "                 AND UPPER(ETHNICITY) NOT LIKE '%HISPANIC%' \n",
    "                 THEN 'White/European'\n",
    "            WHEN UPPER(ETHNICITY) LIKE '%BLACK%' \n",
    "                 THEN 'Black/African American'\n",
    "            WHEN UPPER(ETHNICITY) LIKE '%ASIAN%' \n",
    "                 THEN 'Asian'\n",
    "            WHEN UPPER(ETHNICITY) LIKE '%HISPANIC%' \n",
    "                 OR UPPER(ETHNICITY) LIKE '%LATINO%' \n",
    "                 THEN 'Hispanic/Latino'\n",
    "            WHEN UPPER(ETHNICITY) LIKE '%AMERICAN INDIAN%' \n",
    "                 OR UPPER(ETHNICITY) LIKE '%ALASKA NATIVE%' \n",
    "                 THEN 'Native American'\n",
    "            WHEN UPPER(ETHNICITY) LIKE '%NATIVE HAWAIIAN%' \n",
    "                 OR UPPER(ETHNICITY) LIKE '%PACIFIC ISLANDER%' \n",
    "                 THEN 'Pacific Islander'\n",
    "            WHEN UPPER(ETHNICITY) LIKE '%UNKNOWN%'\n",
    "                 OR UPPER(ETHNICITY) LIKE '%UNABLE%'\n",
    "                 OR UPPER(ETHNICITY) LIKE '%DECLINED%'\n",
    "                 THEN 'Unknown/Not Provided'\n",
    "            ELSE 'Other'\n",
    "          END AS ETHNICITY_GROUP\n",
    "        FROM `MIMIC.ADMISSIONS`\n",
    "        GROUP BY SUBJECT_ID, ETHNICITY_GROUP\n",
    "    ),\n",
    "    PATIENTS_ETHNICITIES AS (\n",
    "        SELECT\n",
    "            ethnicities.SUBJECT_ID,\n",
    "            ETHNICITY_GROUP\n",
    "        FROM ETHNICITIES_TABLE AS ethnicities\n",
    "            JOIN `MIMIC.ADMISSIONS` as admissions\n",
    "                ON (ethnicities.SUBJECT_ID = admissions.SUBJECT_ID)\n",
    "        GROUP BY ethnicities.SUBJECT_ID, ethnicities.ETHNICITY_GROUP\n",
    "    ),\n",
    "    TOTAL_PATIENTS_ETHNICITIES AS (\n",
    "        SELECT \n",
    "            ETHNICITY_GROUP,\n",
    "            COUNT(*) AS TOTAL_PATIENTS\n",
    "        FROM PATIENTS_ETHNICITIES\n",
    "        GROUP BY ETHNICITY_GROUP\n",
    "    )\n",
    "    SELECT \n",
    "        t.ETHNICITY_GROUP,\n",
    "        COUNT(*) AS TOTAL_DEATHS,\n",
    "        t.TOTAL_PATIENTS,\n",
    "        COUNT(*) / t.TOTAL_PATIENTS AS MORTALITY_RATIO\n",
    "    FROM `MIMIC.PATIENTS` as patients\n",
    "        JOIN PATIENTS_ETHNICITIES as patientsEthnicities\n",
    "            ON (patients.SUBJECT_ID = patientsEthnicities.SUBJECT_ID) \n",
    "        JOIN TOTAL_PATIENTS_ETHNICITIES AS t \n",
    "            ON (patientsEthnicities.ETHNICITY_GROUP = t.ETHNICITY_GROUP)\n",
    "    WHERE EXPIRE_FLAG = 1\n",
    "    GROUP BY ETHNICITY_GROUP, TOTAL_PATIENTS\n",
    "    ORDER BY TOTAL_PATIENTS DESC;\n",
    "    \"\"\"\n",
    ")\n",
    "\n",
    "# Run the query\n",
    "queryJob = client.query(ethnicityMortalityRatesQuery)\n",
    "\n",
    "# Wait for the job to complete and get the results\n",
    "results = queryJob.result()\n",
    "\n",
    "# Convert the results to a Pandas DataFrame\n",
    "ethnicityMortalityRates = queryJob.to_dataframe()"
   ]
  },
  {
   "cell_type": "code",
   "execution_count": 66,
   "id": "a2181e87-09bd-483a-8473-b2d0d15ceb69",
   "metadata": {},
   "outputs": [
    {
     "data": {
      "text/html": [
       "<div>\n",
       "<style scoped>\n",
       "    .dataframe tbody tr th:only-of-type {\n",
       "        vertical-align: middle;\n",
       "    }\n",
       "\n",
       "    .dataframe tbody tr th {\n",
       "        vertical-align: top;\n",
       "    }\n",
       "\n",
       "    .dataframe thead th {\n",
       "        text-align: right;\n",
       "    }\n",
       "</style>\n",
       "<table border=\"1\" class=\"dataframe\">\n",
       "  <thead>\n",
       "    <tr style=\"text-align: right;\">\n",
       "      <th></th>\n",
       "      <th>ETHNICITY_GROUP</th>\n",
       "      <th>TOTAL_DEATHS</th>\n",
       "      <th>TOTAL_PATIENTS</th>\n",
       "      <th>MORTALITY_RATIO</th>\n",
       "    </tr>\n",
       "  </thead>\n",
       "  <tbody>\n",
       "    <tr>\n",
       "      <th>0</th>\n",
       "      <td>White/European</td>\n",
       "      <td>11448</td>\n",
       "      <td>32433</td>\n",
       "      <td>0.352974</td>\n",
       "    </tr>\n",
       "    <tr>\n",
       "      <th>1</th>\n",
       "      <td>Unknown/Not Provided</td>\n",
       "      <td>2314</td>\n",
       "      <td>5530</td>\n",
       "      <td>0.418445</td>\n",
       "    </tr>\n",
       "    <tr>\n",
       "      <th>2</th>\n",
       "      <td>Black/African American</td>\n",
       "      <td>1099</td>\n",
       "      <td>3875</td>\n",
       "      <td>0.283613</td>\n",
       "    </tr>\n",
       "    <tr>\n",
       "      <th>3</th>\n",
       "      <td>Asian</td>\n",
       "      <td>326</td>\n",
       "      <td>1691</td>\n",
       "      <td>0.192785</td>\n",
       "    </tr>\n",
       "    <tr>\n",
       "      <th>4</th>\n",
       "      <td>Hispanic/Latino</td>\n",
       "      <td>321</td>\n",
       "      <td>1652</td>\n",
       "      <td>0.194310</td>\n",
       "    </tr>\n",
       "    <tr>\n",
       "      <th>5</th>\n",
       "      <td>Other</td>\n",
       "      <td>311</td>\n",
       "      <td>1511</td>\n",
       "      <td>0.205824</td>\n",
       "    </tr>\n",
       "    <tr>\n",
       "      <th>6</th>\n",
       "      <td>Native American</td>\n",
       "      <td>11</td>\n",
       "      <td>47</td>\n",
       "      <td>0.234043</td>\n",
       "    </tr>\n",
       "    <tr>\n",
       "      <th>7</th>\n",
       "      <td>Pacific Islander</td>\n",
       "      <td>5</td>\n",
       "      <td>15</td>\n",
       "      <td>0.333333</td>\n",
       "    </tr>\n",
       "  </tbody>\n",
       "</table>\n",
       "</div>"
      ],
      "text/plain": [
       "          ETHNICITY_GROUP  TOTAL_DEATHS  TOTAL_PATIENTS  MORTALITY_RATIO\n",
       "0          White/European         11448           32433         0.352974\n",
       "1    Unknown/Not Provided          2314            5530         0.418445\n",
       "2  Black/African American          1099            3875         0.283613\n",
       "3                   Asian           326            1691         0.192785\n",
       "4         Hispanic/Latino           321            1652         0.194310\n",
       "5                   Other           311            1511         0.205824\n",
       "6         Native American            11              47         0.234043\n",
       "7        Pacific Islander             5              15         0.333333"
      ]
     },
     "execution_count": 66,
     "metadata": {},
     "output_type": "execute_result"
    }
   ],
   "source": [
    "# Showcase the mortality ratio within all the patient's ethnicities\n",
    "ethnicityMortalityRates"
   ]
  },
  {
   "cell_type": "markdown",
   "id": "f2737cde-711b-4db8-b604-e735db5fe476",
   "metadata": {},
   "source": [
    "---\n",
    "#### Care Units\n",
    "---\n",
    "\n",
    "We now will analyse how the initial care units can impact the outcome of the patient (if he lives or dies) and its length of stay in "
   ]
  },
  {
   "cell_type": "code",
   "execution_count": 139,
   "id": "82432aff-d99b-45e1-a33f-0263bf160f5e",
   "metadata": {},
   "outputs": [],
   "source": [
    "# Define your query\n",
    "icuMortalityQuery = (\n",
    "    \"\"\"\n",
    "    WITH CAREUNIT_PATIENTS AS (\n",
    "        SELECT \n",
    "            FIRST_CAREUNIT,\n",
    "            COUNT(*) AS TOTAL_PATIENTS\n",
    "        FROM `MIMIC.PATIENTS` AS patients\n",
    "            JOIN `MIMIC.ICUSTAYS` AS icuStays\n",
    "                ON patients.SUBJECT_ID = icuStays.SUBJECT_ID\n",
    "        GROUP BY FIRST_CAREUNIT\n",
    "    )\n",
    "    SELECT \n",
    "        careunitPatients.FIRST_CAREUNIT,\n",
    "        COUNT(*) AS TOTAL_DEATHS,\n",
    "        careunitPatients.TOTAL_PATIENTS,\n",
    "        COUNT(*) / careunitPatients.TOTAL_PATIENTS AS MORTALITY_RATIO\n",
    "    FROM `MIMIC.PATIENTS` AS patients\n",
    "        JOIN `MIMIC.ICUSTAYS` AS icuStays\n",
    "            ON patients.SUBJECT_ID = icuStays.SUBJECT_ID\n",
    "        JOIN CAREUNIT_PATIENTS AS careunitPatients\n",
    "            ON careunitPatients.FIRST_CAREUNIT = icuStays.FIRST_CAREUNIT\n",
    "    WHERE EXPIRE_FLAG = 1\n",
    "    GROUP BY FIRST_CAREUNIT, TOTAL_PATIENTS\n",
    "    ORDER BY MORTALITY_RATIO DESC;\n",
    "    \"\"\"\n",
    ")\n",
    "\n",
    "# Run the query\n",
    "queryJob = client.query(icuMortalityQuery)\n",
    "\n",
    "# Wait for the job to complete and get the results\n",
    "results = queryJob.result()\n",
    "\n",
    "# Convert the results to a Pandas DataFrame\n",
    "icuMortality = queryJob.to_dataframe()"
   ]
  },
  {
   "cell_type": "code",
   "execution_count": 140,
   "id": "9bfbbb36-a084-4ecb-adae-8675f2a55fc2",
   "metadata": {},
   "outputs": [
    {
     "data": {
      "text/html": [
       "<div>\n",
       "<style scoped>\n",
       "    .dataframe tbody tr th:only-of-type {\n",
       "        vertical-align: middle;\n",
       "    }\n",
       "\n",
       "    .dataframe tbody tr th {\n",
       "        vertical-align: top;\n",
       "    }\n",
       "\n",
       "    .dataframe thead th {\n",
       "        text-align: right;\n",
       "    }\n",
       "</style>\n",
       "<table border=\"1\" class=\"dataframe\">\n",
       "  <thead>\n",
       "    <tr style=\"text-align: right;\">\n",
       "      <th></th>\n",
       "      <th>FIRST_CAREUNIT</th>\n",
       "      <th>TOTAL_DEATHS</th>\n",
       "      <th>TOTAL_PATIENTS</th>\n",
       "      <th>MORTALITY_RATIO</th>\n",
       "    </tr>\n",
       "  </thead>\n",
       "  <tbody>\n",
       "    <tr>\n",
       "      <th>0</th>\n",
       "      <td>MICU</td>\n",
       "      <td>11433</td>\n",
       "      <td>21088</td>\n",
       "      <td>0.542157</td>\n",
       "    </tr>\n",
       "    <tr>\n",
       "      <th>1</th>\n",
       "      <td>CCU</td>\n",
       "      <td>3856</td>\n",
       "      <td>7726</td>\n",
       "      <td>0.499094</td>\n",
       "    </tr>\n",
       "    <tr>\n",
       "      <th>2</th>\n",
       "      <td>SICU</td>\n",
       "      <td>3984</td>\n",
       "      <td>8891</td>\n",
       "      <td>0.448094</td>\n",
       "    </tr>\n",
       "    <tr>\n",
       "      <th>3</th>\n",
       "      <td>TSICU</td>\n",
       "      <td>2246</td>\n",
       "      <td>6415</td>\n",
       "      <td>0.350117</td>\n",
       "    </tr>\n",
       "    <tr>\n",
       "      <th>4</th>\n",
       "      <td>CSRU</td>\n",
       "      <td>2605</td>\n",
       "      <td>9312</td>\n",
       "      <td>0.279747</td>\n",
       "    </tr>\n",
       "  </tbody>\n",
       "</table>\n",
       "</div>"
      ],
      "text/plain": [
       "  FIRST_CAREUNIT  TOTAL_DEATHS  TOTAL_PATIENTS  MORTALITY_RATIO\n",
       "0           MICU         11433           21088         0.542157\n",
       "1            CCU          3856            7726         0.499094\n",
       "2           SICU          3984            8891         0.448094\n",
       "3          TSICU          2246            6415         0.350117\n",
       "4           CSRU          2605            9312         0.279747"
      ]
     },
     "execution_count": 140,
     "metadata": {},
     "output_type": "execute_result"
    }
   ],
   "source": [
    "# Showcase how each initial care unit can impact the treatment of the patient\n",
    "icuMortality.head()"
   ]
  },
  {
   "cell_type": "markdown",
   "id": "7bcca92f-b072-4fb3-b82f-2367c83adcde",
   "metadata": {},
   "source": [
    "---\n",
    "#### XXX\n",
    "---"
   ]
  },
  {
   "cell_type": "code",
   "execution_count": 70,
   "id": "6dcf56f1-59f4-4890-af1a-e62426cebb81",
   "metadata": {
    "scrolled": true
   },
   "outputs": [],
   "source": [
    "# Define your query\n",
    "query = (\n",
    "    \"\"\"\n",
    "    -- Unified view combining ADMISSIONS and PATIENTS data\n",
    "    WITH admissions_patient AS (\n",
    "      SELECT \n",
    "        adm.SUBJECT_ID,\n",
    "        adm.HADM_ID,\n",
    "        adm.ADMITTIME,\n",
    "        adm.DISCHTIME,\n",
    "        adm.HOSPITAL_EXPIRE_FLAG,\n",
    "        adm.ETHNICITY,\n",
    "        adm.MARITAL_STATUS,\n",
    "        adm.RELIGION,\n",
    "        -- Compute LOS in days (using hours divided by 24)\n",
    "        TIMESTAMP_DIFF(adm.DISCHTIME, adm.ADMITTIME, HOUR) / 24.0 AS LOS\n",
    "      FROM `MIMIC.ADMISSIONS` AS adm\n",
    "      JOIN `MIMIC.PATIENTS` AS pat\n",
    "        ON adm.SUBJECT_ID = pat.SUBJECT_ID\n",
    "    ),\n",
    "    \n",
    "    -- Count total admissions per patient (useful for readmission analysis)\n",
    "    patient_admission_counts AS (\n",
    "      SELECT \n",
    "        SUBJECT_ID,\n",
    "        COUNT(*) AS admission_count\n",
    "      FROM `MIMIC.ADMISSIONS`\n",
    "      GROUP BY SUBJECT_ID\n",
    "    )\n",
    "    \n",
    "    -- 3. Readmission Rate by Ethnicity (percentage of patients with >1 admission)\n",
    "    SELECT\n",
    "      ap.ETHNICITY,\n",
    "      COUNT(DISTINCT ap.SUBJECT_ID) AS total_patients,\n",
    "      SUM(CASE WHEN pac.admission_count > 1 THEN 1 ELSE 0 END) AS readmitted_patients,\n",
    "      SAFE_DIVIDE(SUM(CASE WHEN pac.admission_count > 1 THEN 1 ELSE 0 END), COUNT(DISTINCT ap.SUBJECT_ID)) AS readmission_rate\n",
    "    FROM admissions_patient AS ap\n",
    "    JOIN patient_admission_counts AS pac\n",
    "      ON ap.SUBJECT_ID = pac.SUBJECT_ID\n",
    "    GROUP BY ap.ETHNICITY\n",
    "    ORDER BY readmission_rate DESC;\n",
    "    \"\"\"\n",
    ")\n",
    "\n",
    "# Run the query\n",
    "queryJob = client.query(query)\n",
    "\n",
    "# Wait for the job to complete and get the results\n",
    "results = queryJob.result()\n",
    "\n",
    "# Convert the results to a Pandas DataFrame\n",
    "res = queryJob.to_dataframe()"
   ]
  },
  {
   "cell_type": "code",
   "execution_count": null,
   "id": "9c6358d7-7054-4ed8-a76d-a34bd7ac2486",
   "metadata": {},
   "outputs": [],
   "source": [
    " # -- 1. Average Length of Stay (LOS) by Ethnicity\n",
    " #    SELECT\n",
    " #      ETHNICITY,\n",
    " #      COUNT(*) AS total_admissions,\n",
    " #      AVG(LOS) AS avg_los\n",
    " #    FROM admissions_patient\n",
    " #    GROUP BY ETHNICITY\n",
    " #    ORDER BY avg_los DESC;\n",
    "    \n",
    " #    -- 2. Mortality Ratio by Ethnicity\n",
    " #    SELECT \n",
    " #      ETHNICITY,\n",
    " #      COUNT(*) AS total_admissions,\n",
    " #      SUM(CASE WHEN HOSPITAL_EXPIRE_FLAG = 1 THEN 1 ELSE 0 END) AS total_deaths,\n",
    " #      SAFE_DIVIDE(SUM(CASE WHEN HOSPITAL_EXPIRE_FLAG = 1 THEN 1 ELSE 0 END), COUNT(*)) AS mortality_ratio\n",
    " #    FROM admissions_patient\n",
    " #    GROUP BY ETHNICITY\n",
    " #    ORDER BY mortality_ratio DESC;"
   ]
  },
  {
   "cell_type": "code",
   "execution_count": 71,
   "id": "3e82796f-9ddf-4ed6-a337-7f9b8dfda2c5",
   "metadata": {},
   "outputs": [
    {
     "data": {
      "text/html": [
       "<div>\n",
       "<style scoped>\n",
       "    .dataframe tbody tr th:only-of-type {\n",
       "        vertical-align: middle;\n",
       "    }\n",
       "\n",
       "    .dataframe tbody tr th {\n",
       "        vertical-align: top;\n",
       "    }\n",
       "\n",
       "    .dataframe thead th {\n",
       "        text-align: right;\n",
       "    }\n",
       "</style>\n",
       "<table border=\"1\" class=\"dataframe\">\n",
       "  <thead>\n",
       "    <tr style=\"text-align: right;\">\n",
       "      <th></th>\n",
       "      <th>ETHNICITY</th>\n",
       "      <th>total_patients</th>\n",
       "      <th>readmitted_patients</th>\n",
       "      <th>readmission_rate</th>\n",
       "    </tr>\n",
       "  </thead>\n",
       "  <tbody>\n",
       "    <tr>\n",
       "      <th>0</th>\n",
       "      <td>AMERICAN INDIAN/ALASKA NATIVE FEDERALLY RECOGN...</td>\n",
       "      <td>2</td>\n",
       "      <td>2</td>\n",
       "      <td>1.000000</td>\n",
       "    </tr>\n",
       "    <tr>\n",
       "      <th>1</th>\n",
       "      <td>ASIAN - FILIPINO</td>\n",
       "      <td>15</td>\n",
       "      <td>14</td>\n",
       "      <td>0.933333</td>\n",
       "    </tr>\n",
       "    <tr>\n",
       "      <th>2</th>\n",
       "      <td>ASIAN - CAMBODIAN</td>\n",
       "      <td>11</td>\n",
       "      <td>10</td>\n",
       "      <td>0.909091</td>\n",
       "    </tr>\n",
       "    <tr>\n",
       "      <th>3</th>\n",
       "      <td>PORTUGUESE</td>\n",
       "      <td>40</td>\n",
       "      <td>34</td>\n",
       "      <td>0.850000</td>\n",
       "    </tr>\n",
       "    <tr>\n",
       "      <th>4</th>\n",
       "      <td>HISPANIC/LATINO - CENTRAL AMERICAN (OTHER)</td>\n",
       "      <td>9</td>\n",
       "      <td>7</td>\n",
       "      <td>0.777778</td>\n",
       "    </tr>\n",
       "  </tbody>\n",
       "</table>\n",
       "</div>"
      ],
      "text/plain": [
       "                                           ETHNICITY  total_patients  \\\n",
       "0  AMERICAN INDIAN/ALASKA NATIVE FEDERALLY RECOGN...               2   \n",
       "1                                   ASIAN - FILIPINO              15   \n",
       "2                                  ASIAN - CAMBODIAN              11   \n",
       "3                                         PORTUGUESE              40   \n",
       "4         HISPANIC/LATINO - CENTRAL AMERICAN (OTHER)               9   \n",
       "\n",
       "   readmitted_patients  readmission_rate  \n",
       "0                    2          1.000000  \n",
       "1                   14          0.933333  \n",
       "2                   10          0.909091  \n",
       "3                   34          0.850000  \n",
       "4                    7          0.777778  "
      ]
     },
     "execution_count": 71,
     "metadata": {},
     "output_type": "execute_result"
    }
   ],
   "source": [
    "# Showcase how each initial care unit can impact the treatment of the patient\n",
    "res.head()"
   ]
  },
  {
   "cell_type": "markdown",
   "id": "85e86ec7-2a2a-4260-9855-04b28c7cf380",
   "metadata": {},
   "source": [
    "---\n",
    "## Additional Ideas:\n",
    "\n",
    "- Outlier Analysis on LOS:\n",
    "- Assess how frequently ICD-9 codes appear together, identifying common comorbidities.\n",
    "- Assess how variables like ethnicity, marital status, or religion (from ADMISSIONS and PATIENTS tables) correlate with length of stay, mortality, or readmission rates.\n",
    "- Demographic Correlations: Join the PATIENTS and ADMISSIONS tables to explore correlations between age, gender, or ethnicity and LOS, potentially revealing disparities in outcomes."
   ]
  },
  {
   "cell_type": "markdown",
   "id": "092e438d-9a7c-4d99-8cb5-9fa09220a111",
   "metadata": {},
   "source": [
    "---\n",
    "<div align=\"center\">\n",
    "\n",
    "## Data Preprocessing\n",
    "</div>\n",
    "\n",
    "---\n",
    "\n",
    "Given the previous extended exploratory data analysis, we are bound to manipulate the dataset's tables in order to obtain a more robust and precise dataframe with whoose help alongside some data preparation will allow us to properly train a machine learning model to correctly predict the Length of Stay of patients in the Intensive Care Unit."
   ]
  },
  {
   "cell_type": "code",
   "execution_count": null,
   "id": "e32f28ef-dc67-43c8-928c-1eed2d7216c2",
   "metadata": {},
   "outputs": [],
   "source": []
  }
 ],
 "metadata": {
  "kernelspec": {
   "display_name": "Python 3 (ipykernel)",
   "language": "python",
   "name": "python3"
  },
  "language_info": {
   "codemirror_mode": {
    "name": "ipython",
    "version": 3
   },
   "file_extension": ".py",
   "mimetype": "text/x-python",
   "name": "python",
   "nbconvert_exporter": "python",
   "pygments_lexer": "ipython3",
   "version": "3.10.12"
  }
 },
 "nbformat": 4,
 "nbformat_minor": 5
}
